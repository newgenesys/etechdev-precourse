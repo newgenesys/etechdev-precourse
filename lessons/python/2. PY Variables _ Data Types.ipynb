{
 "cells": [
  {
   "cell_type": "markdown",
   "metadata": {
    "colab_type": "text",
    "id": "ZvNsvUNNlZbi"
   },
   "source": [
    "---\n",
    "# 02 - Python Variables & Data Types\n",
    "---\n",
    "\n"
   ]
  },
  {
   "cell_type": "markdown",
   "metadata": {
    "colab_type": "text",
    "id": "o57NvhYkBjKH"
   },
   "source": [
    "## Variables: The building blocks of Python\n",
    "\n",
    "### What is a variable?\n",
    "We saw in the previous module that Python is one heck of a calculator. But you can imagine how more complex calculations would require us to remember a lot of values. That's where ***variables*** come in!  \n",
    "\n",
    "A variable is a storage unit for different values like numbers or text. Variables must be specific and case sensitive because you call up the value of a variable by using its name. \n",
    "\n"
   ]
  },
  {
   "cell_type": "code",
   "execution_count": 0,
   "metadata": {
    "colab": {
     "base_uri": "https://localhost:8080/",
     "height": 35
    },
    "colab_type": "code",
    "executionInfo": {
     "elapsed": 348,
     "status": "ok",
     "timestamp": 1566519853753,
     "user": {
      "displayName": "Ryan Allred",
      "photoUrl": "",
      "userId": "04031804316926795705"
     },
     "user_tz": 360
    },
    "id": "gTg4J-jCExcZ",
    "outputId": "a7e7c34a-7722-412e-c243-ca6db01de83e"
   },
   "outputs": [
    {
     "data": {
      "text/plain": [
       "40"
      ]
     },
     "execution_count": 2,
     "metadata": {
      "tags": []
     },
     "output_type": "execute_result"
    }
   ],
   "source": [
    "# Remember this cell from the previous module? Meet ints. \n",
    "\n",
    "x = 23\n",
    "y = 17\n",
    "\n",
    "x + y"
   ]
  },
  {
   "cell_type": "code",
   "execution_count": 0,
   "metadata": {
    "colab": {
     "base_uri": "https://localhost:8080/",
     "height": 35
    },
    "colab_type": "code",
    "executionInfo": {
     "elapsed": 345,
     "status": "ok",
     "timestamp": 1566519939791,
     "user": {
      "displayName": "Ryan Allred",
      "photoUrl": "",
      "userId": "04031804316926795705"
     },
     "user_tz": 360
    },
    "id": "OF21ttOZ2Xv1",
    "outputId": "6ab74325-647f-4df4-85de-a0c73bd57f3c"
   },
   "outputs": [
    {
     "data": {
      "text/plain": [
       "int"
      ]
     },
     "execution_count": 5,
     "metadata": {
      "tags": []
     },
     "output_type": "execute_result"
    }
   ],
   "source": [
    "type(x)"
   ]
  },
  {
   "cell_type": "markdown",
   "metadata": {
    "colab_type": "text",
    "id": "kRT5Xl0wTWvR"
   },
   "source": [
    "In the above cell we created (or *declared*) two variables: *x* and *y*. We did this by simply using an **=** sign much like we would in algebra.  \n",
    "In this example we only used numerical values (these are called ***integers*** or ***ints***). So what happens when you use text values?\n"
   ]
  },
  {
   "cell_type": "code",
   "execution_count": 0,
   "metadata": {
    "colab": {
     "base_uri": "https://localhost:8080/",
     "height": 35
    },
    "colab_type": "code",
    "executionInfo": {
     "elapsed": 318,
     "status": "ok",
     "timestamp": 1566520063467,
     "user": {
      "displayName": "Ryan Allred",
      "photoUrl": "",
      "userId": "04031804316926795705"
     },
     "user_tz": 360
    },
    "id": "MfndtviVcgaO",
    "outputId": "44f111f9-bf04-4e8a-a23b-fd2e48584959"
   },
   "outputs": [
    {
     "data": {
      "text/plain": [
       "'Dennis is running late, again!'"
      ]
     },
     "execution_count": 7,
     "metadata": {
      "tags": []
     },
     "output_type": "execute_result"
    }
   ],
   "source": [
    "# These are called strings:\n",
    "\n",
    "z = 'Dennis is '\n",
    "w = \"running late, again!\"\n",
    "\n",
    "z + w"
   ]
  },
  {
   "cell_type": "code",
   "execution_count": 0,
   "metadata": {
    "colab": {
     "base_uri": "https://localhost:8080/",
     "height": 52
    },
    "colab_type": "code",
    "executionInfo": {
     "elapsed": 365,
     "status": "ok",
     "timestamp": 1566520123064,
     "user": {
      "displayName": "Ryan Allred",
      "photoUrl": "",
      "userId": "04031804316926795705"
     },
     "user_tz": 360
    },
    "id": "HYIbaIAI34Bb",
    "outputId": "8b63edce-6bcd-479f-a7bf-6e6451c7a023"
   },
   "outputs": [
    {
     "name": "stdout",
     "output_type": "stream",
     "text": [
      "<class 'str'>\n",
      "<class 'str'>\n"
     ]
    }
   ],
   "source": [
    "print(type(z))\n",
    "print(type(w))"
   ]
  },
  {
   "cell_type": "markdown",
   "metadata": {
    "colab_type": "text",
    "id": "ejTRW_41ccek"
   },
   "source": [
    "Something different happened!\n",
    "\n",
    "When **ints** are added together, Python returns their sum as another int. Text values are referred to as ***strings***. These can be denoted using 'single' or \"double\" quotation marks as you can see above.  \n",
    "\n",
    "When strings are added together, that's called *concatenation*. They're basically just pushed up against together. But remember, spaces are also counted. If you notice, there's no space at the end of the first string. Try adding a space after \"is\" and see what happens.  \n",
    "\n",
    "This is a key principle of Python. *Different* types have *different* behavior.   \n",
    "\n",
    "\n"
   ]
  },
  {
   "cell_type": "markdown",
   "metadata": {
    "colab_type": "text",
    "id": "RS0x6FysdX3p"
   },
   "source": [
    "Let's try something a bit more realistic. \n",
    "\n",
    "Let's say we're working with personal financial data and we're trying to figure out a budget."
   ]
  },
  {
   "cell_type": "code",
   "execution_count": 0,
   "metadata": {
    "colab": {},
    "colab_type": "code",
    "id": "PweN-CTws2EV"
   },
   "outputs": [],
   "source": [
    "# Let's put some numbers together:\n",
    "\n",
    "# Income:\n",
    "monthly_income = 5000\n",
    "\n",
    "# Taxes:\n",
    "tax_rate = 0.184\n",
    "\n",
    "# Expenses\n",
    "rent = 1200\n",
    "food = 320\n",
    "wifi = 100\n",
    "transport = 300\n",
    "misc = 400"
   ]
  },
  {
   "cell_type": "code",
   "execution_count": 0,
   "metadata": {
    "colab": {
     "base_uri": "https://localhost:8080/",
     "height": 35
    },
    "colab_type": "code",
    "executionInfo": {
     "elapsed": 347,
     "status": "ok",
     "timestamp": 1566520359993,
     "user": {
      "displayName": "Ryan Allred",
      "photoUrl": "",
      "userId": "04031804316926795705"
     },
     "user_tz": 360
    },
    "id": "8cLKflFz46wd",
    "outputId": "81560bf2-58a6-42a7-ac1c-a1ef0d40f30b"
   },
   "outputs": [
    {
     "data": {
      "text/plain": [
       "float"
      ]
     },
     "execution_count": 14,
     "metadata": {
      "tags": []
     },
     "output_type": "execute_result"
    }
   ],
   "source": [
    "type(tax_rate)"
   ]
  },
  {
   "cell_type": "markdown",
   "metadata": {
    "colab_type": "text",
    "id": "YVJNY8_NY240"
   },
   "source": [
    "Notice how that cell didn't have an output? Even though we ran the cell, it had no commands other than assigning values to different variables. If we tried to add something (like in the original example), then there would be an output."
   ]
  },
  {
   "cell_type": "markdown",
   "metadata": {
    "colab_type": "text",
    "id": "NruI-jojYCLK"
   },
   "source": [
    "Ok. We've created seven variables and assigned each a different numeric value to represent our income, taxes, and expenses for a given month. Let's see how much we have left over after we pay Uncle Sam and cover our expenses. "
   ]
  },
  {
   "cell_type": "code",
   "execution_count": 0,
   "metadata": {
    "colab": {
     "base_uri": "https://localhost:8080/",
     "height": 35
    },
    "colab_type": "code",
    "executionInfo": {
     "elapsed": 329,
     "status": "ok",
     "timestamp": 1566520480021,
     "user": {
      "displayName": "Ryan Allred",
      "photoUrl": "",
      "userId": "04031804316926795705"
     },
     "user_tz": 360
    },
    "id": "cnJ-ZG34YBSl",
    "outputId": "cb30efbf-f1a2-453a-92d7-b281add81ed9"
   },
   "outputs": [
    {
     "name": "stdout",
     "output_type": "stream",
     "text": [
      "4080.0000000000005\n"
     ]
    }
   ],
   "source": [
    "# Income, after taxes:\n",
    "AT_income = monthly_income * (1-tax_rate)\n",
    "print(AT_income)"
   ]
  },
  {
   "cell_type": "code",
   "execution_count": 0,
   "metadata": {
    "colab": {
     "base_uri": "https://localhost:8080/",
     "height": 35
    },
    "colab_type": "code",
    "executionInfo": {
     "elapsed": 240,
     "status": "ok",
     "timestamp": 1566520561071,
     "user": {
      "displayName": "Ryan Allred",
      "photoUrl": "",
      "userId": "04031804316926795705"
     },
     "user_tz": 360
    },
    "id": "PGWhJpBYYv4X",
    "outputId": "008ce554-18b7-4fca-e5a7-e46a387d972a"
   },
   "outputs": [
    {
     "name": "stdout",
     "output_type": "stream",
     "text": [
      "2320\n"
     ]
    }
   ],
   "source": [
    "# Total expenses\n",
    "expenses = rent + food + wifi + transport + misc\n",
    "print(expenses)"
   ]
  },
  {
   "cell_type": "code",
   "execution_count": 0,
   "metadata": {
    "colab": {
     "base_uri": "https://localhost:8080/",
     "height": 35
    },
    "colab_type": "code",
    "executionInfo": {
     "elapsed": 329,
     "status": "ok",
     "timestamp": 1566520643281,
     "user": {
      "displayName": "Ryan Allred",
      "photoUrl": "",
      "userId": "04031804316926795705"
     },
     "user_tz": 360
    },
    "id": "nIyXoC5IZOO5",
    "outputId": "290ac7bb-b732-4a2e-8cff-bfb86492d654"
   },
   "outputs": [
    {
     "data": {
      "text/plain": [
       "1760.0000000000005"
      ]
     },
     "execution_count": 22,
     "metadata": {
      "tags": []
     },
     "output_type": "execute_result"
    }
   ],
   "source": [
    "# What's left?\n",
    "\n",
    "AT_income - expenses"
   ]
  },
  {
   "cell_type": "markdown",
   "metadata": {
    "colab_type": "text",
    "id": "HYVyx-3-aDYH"
   },
   "source": [
    "Not bad. Assuming we saved all of that every month, how long would it take us to have six months of expenses covered in case of an emergency?"
   ]
  },
  {
   "cell_type": "code",
   "execution_count": 0,
   "metadata": {
    "colab": {
     "base_uri": "https://localhost:8080/",
     "height": 35
    },
    "colab_type": "code",
    "executionInfo": {
     "elapsed": 348,
     "status": "ok",
     "timestamp": 1566520677131,
     "user": {
      "displayName": "Ryan Allred",
      "photoUrl": "",
      "userId": "04031804316926795705"
     },
     "user_tz": 360
    },
    "id": "CrEfWg4iZW5x",
    "outputId": "68cd5ba4-c08c-40e7-8db2-76e618d4193a"
   },
   "outputs": [
    {
     "data": {
      "text/plain": [
       "7.909090909090907"
      ]
     },
     "execution_count": 23,
     "metadata": {
      "tags": []
     },
     "output_type": "execute_result"
    }
   ],
   "source": [
    "# Let's declare a new variable to store that value:\n",
    "max_savings = AT_income - expenses\n",
    "\n",
    "# Now let's calculate how long it would take:\n",
    "(expenses * 6) / max_savings"
   ]
  },
  {
   "cell_type": "markdown",
   "metadata": {
    "colab_type": "text",
    "id": "v5drj3Gka1aj"
   },
   "source": [
    "Huh...nearly eight months! Guess we better start saving then. "
   ]
  },
  {
   "cell_type": "markdown",
   "metadata": {
    "colab_type": "text",
    "id": "kugVj2BybgNx"
   },
   "source": [
    "### Operators\n",
    "We just used Python ***operators*** to make those calculations.  \n",
    "\n",
    "*   ***+*** to add\n",
    "*   ***-*** to subtract\n",
    "*   ***/*** to divide\n",
    "\n",
    "\n",
    "There are dozens of operators in Python. These are the more common arithmetic operators. But don't let that scare you. It's all just practice."
   ]
  },
  {
   "cell_type": "markdown",
   "metadata": {
    "colab_type": "text",
    "id": "7Ztd7VIXeGnD"
   },
   "source": [
    "Now what do you think would happen if you tried to add a string to a number?"
   ]
  },
  {
   "cell_type": "code",
   "execution_count": 0,
   "metadata": {
    "colab": {
     "base_uri": "https://localhost:8080/",
     "height": 200
    },
    "colab_type": "code",
    "executionInfo": {
     "elapsed": 302,
     "status": "error",
     "timestamp": 1566520840036,
     "user": {
      "displayName": "Ryan Allred",
      "photoUrl": "",
      "userId": "04031804316926795705"
     },
     "user_tz": 360
    },
    "id": "I2MG0L5NeHSC",
    "outputId": "2902d640-630b-4a68-f6d8-11656b076799"
   },
   "outputs": [
    {
     "ename": "TypeError",
     "evalue": "ignored",
     "output_type": "error",
     "traceback": [
      "\u001b[0;31m---------------------------------------------------------------------------\u001b[0m",
      "\u001b[0;31mTypeError\u001b[0m                                 Traceback (most recent call last)",
      "\u001b[0;32m<ipython-input-26-0788fab6572b>\u001b[0m in \u001b[0;36m<module>\u001b[0;34m()\u001b[0m\n\u001b[1;32m      3\u001b[0m \u001b[0mz\u001b[0m \u001b[0;34m=\u001b[0m \u001b[0;34m'Dennis is '\u001b[0m\u001b[0;34m\u001b[0m\u001b[0;34m\u001b[0m\u001b[0m\n\u001b[1;32m      4\u001b[0m \u001b[0;34m\u001b[0m\u001b[0m\n\u001b[0;32m----> 5\u001b[0;31m \u001b[0mz\u001b[0m \u001b[0;34m+\u001b[0m \u001b[0mx\u001b[0m\u001b[0;34m\u001b[0m\u001b[0;34m\u001b[0m\u001b[0m\n\u001b[0m",
      "\u001b[0;31mTypeError\u001b[0m: must be str, not int"
     ]
    }
   ],
   "source": [
    "# Let's try it:\n",
    "# z holds the string \"Dennis is\" and x holds the integer \"23\".\n",
    "# So by combining them with the + operator, we should get...\n",
    "# 'Dennis is23', right?\n",
    "\n",
    "x = 23\n",
    "z = 'Dennis is '\n",
    "\n",
    "z + x"
   ]
  },
  {
   "cell_type": "markdown",
   "metadata": {
    "colab_type": "text",
    "id": "G70K_DVoGv41"
   },
   "source": [
    "Wrong. We get a **Type**Error. The error complains that it was expecting a *string*, not an *int*.   \n",
    "We'll need to convert *x* into a string. Here's the easiest way to do it:\n"
   ]
  },
  {
   "cell_type": "code",
   "execution_count": 0,
   "metadata": {
    "colab": {
     "base_uri": "https://localhost:8080/",
     "height": 35
    },
    "colab_type": "code",
    "executionInfo": {
     "elapsed": 330,
     "status": "ok",
     "timestamp": 1566520842334,
     "user": {
      "displayName": "Ryan Allred",
      "photoUrl": "",
      "userId": "04031804316926795705"
     },
     "user_tz": 360
    },
    "id": "VecDocuUGusu",
    "outputId": "a1e04463-0f25-47b4-efcc-7bd2b1355362"
   },
   "outputs": [
    {
     "data": {
      "text/plain": [
       "'Dennis is 23'"
      ]
     },
     "execution_count": 27,
     "metadata": {
      "tags": []
     },
     "output_type": "execute_result"
    }
   ],
   "source": [
    "# We use Python's built-in str() method!\n",
    "\n",
    "z + str(x)"
   ]
  },
  {
   "cell_type": "markdown",
   "metadata": {
    "colab_type": "text",
    "id": "5pFlLAIEIbqo"
   },
   "source": [
    "Now we get what we wanted! \n",
    "\n",
    "This was just a preview; we'll review *methods* in more depth later on, don't worry.  "
   ]
  },
  {
   "cell_type": "markdown",
   "metadata": {
    "colab_type": "text",
    "id": "WsBnIKlXI-w4"
   },
   "source": [
    "## Python Data Types\n",
    "\n",
    "### Strings and ints\n",
    "\n",
    "Let's discuss the different data types in Python. We've covered the first two already:  \n",
    "\n",
    "\n",
    "*   **Strings** - Strings of characters that denote text\n",
    "*   **Integers** - Positive or negative whole numbers with no decimal point\n",
    "\n",
    "\n",
    "But what if we wanted to use decimal points, like in the tax rate example above?\n"
   ]
  },
  {
   "cell_type": "code",
   "execution_count": 0,
   "metadata": {
    "colab": {
     "base_uri": "https://localhost:8080/",
     "height": 35
    },
    "colab_type": "code",
    "executionInfo": {
     "elapsed": 334,
     "status": "ok",
     "timestamp": 1566520890194,
     "user": {
      "displayName": "Ryan Allred",
      "photoUrl": "",
      "userId": "04031804316926795705"
     },
     "user_tz": 360
    },
    "id": "_NSQOMpKIAsr",
    "outputId": "a7dbca72-d0fa-4af5-b4a4-c03b13272510"
   },
   "outputs": [
    {
     "data": {
      "text/plain": [
       "float"
      ]
     },
     "execution_count": 29,
     "metadata": {
      "tags": []
     },
     "output_type": "execute_result"
    }
   ],
   "source": [
    "# Python can handle it!\n",
    "# If you pass a variable to the built-in function type(), it will return that variable's data type\n",
    "type(tax_rate)\n",
    "\n",
    "my_float = 0.000003\n",
    "type(my_float)"
   ]
  },
  {
   "cell_type": "markdown",
   "metadata": {
    "colab_type": "text",
    "id": "Mji-CmWiNYUz"
   },
   "source": [
    "\n",
    "\n",
    "*   **Floats** - A number that can have an integer part and a fractional part. In other words, a decimal!\n",
    "\n"
   ]
  },
  {
   "cell_type": "code",
   "execution_count": 0,
   "metadata": {
    "colab": {
     "base_uri": "https://localhost:8080/",
     "height": 34
    },
    "colab_type": "code",
    "executionInfo": {
     "elapsed": 420,
     "status": "ok",
     "timestamp": 1560165121582,
     "user": {
      "displayName": "Alejandro Ruperti",
      "photoUrl": "",
      "userId": "04781448204380214196"
     },
     "user_tz": 240
    },
    "id": "IoW6Cw45M-t1",
    "outputId": "2dfcc352-e145-4365-8c8b-b2d249632db6"
   },
   "outputs": [
    {
     "data": {
      "text/plain": [
       "(bool, bool)"
      ]
     },
     "execution_count": 11,
     "metadata": {
      "tags": []
     },
     "output_type": "execute_result"
    }
   ],
   "source": [
    "# Then there are booleans:\n",
    "\n",
    "a = True\n",
    "b = False\n",
    "\n",
    "type(a), type(b)"
   ]
  },
  {
   "cell_type": "markdown",
   "metadata": {
    "colab_type": "text",
    "id": "9y_95simNuL-"
   },
   "source": [
    "\n",
    "*   **Booleans** - Simply yes or no. Booleans will be really useful later on for filtering your data and setting conditions for certain commands to execute. "
   ]
  },
  {
   "cell_type": "code",
   "execution_count": 0,
   "metadata": {
    "colab": {},
    "colab_type": "code",
    "id": "q_-77C8iP-tu"
   },
   "outputs": [],
   "source": [
    "# Finally, meet dictionaries:\n",
    "\n",
    "activities = {'rain': 'read a book',\n",
    "              'sunny': 'go for a swim',\n",
    "              'snowy': 'build a fire' \n",
    "             }\n",
    "\n",
    "# Dictionaries can be made with other data types\n",
    "\n",
    "numbers = {'one': 1,\n",
    "           'two': 2.0,\n",
    "           'three': 3\n",
    "          }"
   ]
  },
  {
   "cell_type": "code",
   "execution_count": 0,
   "metadata": {
    "colab": {
     "base_uri": "https://localhost:8080/",
     "height": 35
    },
    "colab_type": "code",
    "executionInfo": {
     "elapsed": 332,
     "status": "ok",
     "timestamp": 1566521117819,
     "user": {
      "displayName": "Ryan Allred",
      "photoUrl": "",
      "userId": "04031804316926795705"
     },
     "user_tz": 360
    },
    "id": "s5BUXOOh7qBK",
    "outputId": "e8de6334-829d-44e2-e599-9f30624a77f3"
   },
   "outputs": [
    {
     "data": {
      "text/plain": [
       "3"
      ]
     },
     "execution_count": 35,
     "metadata": {
      "tags": []
     },
     "output_type": "execute_result"
    }
   ],
   "source": [
    "numbers['three']"
   ]
  },
  {
   "cell_type": "code",
   "execution_count": 0,
   "metadata": {
    "colab": {
     "base_uri": "https://localhost:8080/",
     "height": 35
    },
    "colab_type": "code",
    "executionInfo": {
     "elapsed": 338,
     "status": "ok",
     "timestamp": 1566521134201,
     "user": {
      "displayName": "Ryan Allred",
      "photoUrl": "",
      "userId": "04031804316926795705"
     },
     "user_tz": 360
    },
    "id": "t_wNaTyN72ys",
    "outputId": "549065c2-0fdb-4486-8f73-3e38421e6477"
   },
   "outputs": [
    {
     "data": {
      "text/plain": [
       "'go for a swim'"
      ]
     },
     "execution_count": 36,
     "metadata": {
      "tags": []
     },
     "output_type": "execute_result"
    }
   ],
   "source": [
    "activities['sunny']"
   ]
  },
  {
   "cell_type": "code",
   "execution_count": 0,
   "metadata": {
    "colab": {
     "base_uri": "https://localhost:8080/",
     "height": 35
    },
    "colab_type": "code",
    "executionInfo": {
     "elapsed": 327,
     "status": "ok",
     "timestamp": 1566521156130,
     "user": {
      "displayName": "Ryan Allred",
      "photoUrl": "",
      "userId": "04031804316926795705"
     },
     "user_tz": 360
    },
    "id": "T_Hxh6Qn79ZC",
    "outputId": "bdecbf5c-fc70-489a-cffe-dc4fcc55c18b"
   },
   "outputs": [
    {
     "data": {
      "text/plain": [
       "dict"
      ]
     },
     "execution_count": 37,
     "metadata": {
      "tags": []
     },
     "output_type": "execute_result"
    }
   ],
   "source": [
    "type(numbers)"
   ]
  },
  {
   "cell_type": "markdown",
   "metadata": {
    "colab_type": "text",
    "id": "jelh0tKwQENH"
   },
   "source": [
    "\n",
    "*   **Dictionaries** - Associating this with that. Dictionaries are made up of paired keys and values (you can see our defined pairs in the example above). They will be a powerful tool to help you organize your data later on."
   ]
  },
  {
   "cell_type": "markdown",
   "metadata": {
    "colab_type": "text",
    "id": "NUm1ps44OizZ"
   },
   "source": [
    "### Remember: *Different* data types have *different* behavior:"
   ]
  },
  {
   "cell_type": "code",
   "execution_count": 0,
   "metadata": {
    "colab": {
     "base_uri": "https://localhost:8080/",
     "height": 35
    },
    "colab_type": "code",
    "executionInfo": {
     "elapsed": 331,
     "status": "ok",
     "timestamp": 1566521182548,
     "user": {
      "displayName": "Ryan Allred",
      "photoUrl": "",
      "userId": "04031804316926795705"
     },
     "user_tz": 360
    },
    "id": "ZGF9pJsGNq9d",
    "outputId": "9523f2bd-fe1c-4086-b2f4-f3acf5f324f4"
   },
   "outputs": [
    {
     "data": {
      "text/plain": [
       "40"
      ]
     },
     "execution_count": 38,
     "metadata": {
      "tags": []
     },
     "output_type": "execute_result"
    }
   ],
   "source": [
    "# Integers & floats can be added together arithmetically\n",
    "23 + 17"
   ]
  },
  {
   "cell_type": "code",
   "execution_count": 0,
   "metadata": {
    "colab": {
     "base_uri": "https://localhost:8080/",
     "height": 35
    },
    "colab_type": "code",
    "executionInfo": {
     "elapsed": 330,
     "status": "ok",
     "timestamp": 1566521186202,
     "user": {
      "displayName": "Ryan Allred",
      "photoUrl": "",
      "userId": "04031804316926795705"
     },
     "user_tz": 360
    },
    "id": "3JOVNLFsOpnt",
    "outputId": "65fd15c4-b223-4cdc-b210-a780805262b7"
   },
   "outputs": [
    {
     "data": {
      "text/plain": [
       "'acdc'"
      ]
     },
     "execution_count": 39,
     "metadata": {
      "tags": []
     },
     "output_type": "execute_result"
    }
   ],
   "source": [
    "# Strings are concatenated (bunched) together\n",
    "'ac' + 'dc'"
   ]
  },
  {
   "cell_type": "code",
   "execution_count": 0,
   "metadata": {
    "colab": {
     "base_uri": "https://localhost:8080/",
     "height": 35
    },
    "colab_type": "code",
    "executionInfo": {
     "elapsed": 316,
     "status": "ok",
     "timestamp": 1566521203063,
     "user": {
      "displayName": "Ryan Allred",
      "photoUrl": "",
      "userId": "04031804316926795705"
     },
     "user_tz": 360
    },
    "id": "aLwslQHrO9fF",
    "outputId": "c9c7ae16-284f-48f0-dbbf-9a858d6def2b"
   },
   "outputs": [
    {
     "data": {
      "text/plain": [
       "1"
      ]
     },
     "execution_count": 40,
     "metadata": {
      "tags": []
     },
     "output_type": "execute_result"
    }
   ],
   "source": [
    "# You can also think of true or false as 1 or 0 (binary)\n",
    "True + False"
   ]
  },
  {
   "cell_type": "markdown",
   "metadata": {
    "colab_type": "text",
    "id": "Wv0Q_IF0PhK2"
   },
   "source": [
    "### *Weird, right?* Don't worry! As you practice with Python, you'll develop an intuitive grasp of each data type's behavior. On that note, time for your first assignment!"
   ]
  }
 ],
 "metadata": {
  "colab": {
   "collapsed_sections": [],
   "name": "Copy of Python Variables & Data Types - LECTURE.ipynb",
   "provenance": [
    {
     "file_id": "1zd66VIAxDPzdzjI14Ay3SmaiWLoMcTZW",
     "timestamp": 1579559773273
    },
    {
     "file_id": "1Gj8xFEghBwX8exDkdBWvNSzOUTYlNxI9",
     "timestamp": 1566822128546
    },
    {
     "file_id": "1TeHiJ5s48kWFy5BosIWhjK2MQyMkPHNo",
     "timestamp": 1559546187577
    },
    {
     "file_id": "1f_9CXFJzBvrAePaDr_WYQGHEBS5th53b",
     "timestamp": 1559541190636
    }
   ]
  },
  "kernelspec": {
   "display_name": "Python 3",
   "language": "python",
   "name": "python3"
  },
  "language_info": {
   "codemirror_mode": {
    "name": "ipython",
    "version": 3
   },
   "file_extension": ".py",
   "mimetype": "text/x-python",
   "name": "python",
   "nbconvert_exporter": "python",
   "pygments_lexer": "ipython3",
   "version": "3.8.8"
  }
 },
 "nbformat": 4,
 "nbformat_minor": 1
}
