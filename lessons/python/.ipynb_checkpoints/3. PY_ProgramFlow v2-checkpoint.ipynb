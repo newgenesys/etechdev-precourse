{
 "cells": [
  {
   "cell_type": "markdown",
   "metadata": {
    "id": "9ihX315SnHPD"
   },
   "source": [
    "---\n",
    "# 03 - Python Program Flow\n",
    "---"
   ]
  },
  {
   "cell_type": "code",
   "execution_count": null,
   "metadata": {
    "id": "yicTB00VnHPI"
   },
   "outputs": [],
   "source": [
    "%matplotlib inline\n",
    "import matplotlib\n",
    "# import seaborn as sns\n",
    "matplotlib.rcParams['savefig.dpi'] = 144"
   ]
  },
  {
   "cell_type": "markdown",
   "metadata": {
    "id": "XyEBrDUOnHPK"
   },
   "source": [
    "# Program Flow\n",
    "<!-- requirement: images/high_score_flowchart.png -->\n",
    "<!-- requirement: images/nested_logic_flowchart.png -->"
   ]
  },
  {
   "cell_type": "markdown",
   "metadata": {
    "id": "B1nJa7ednHPK"
   },
   "source": [
    "## What is a computer program?\n",
    "\n",
    "At its simplest, a program is a list of instructions that a computer carries out in order. A program could be long and complicated, but it is built of simple parts. Let's look at some simple operations in Python, and think about what the computer does for each one:"
   ]
  },
  {
   "cell_type": "code",
   "execution_count": null,
   "metadata": {
    "colab": {
     "base_uri": "https://localhost:8080/"
    },
    "executionInfo": {
     "elapsed": 30,
     "status": "ok",
     "timestamp": 1627476432868,
     "user": {
      "displayName": "Princess Eneck",
      "photoUrl": "",
      "userId": "17294586059492752936"
     },
     "user_tz": -60
    },
    "id": "u6W8JesHnHPL",
    "outputId": "8aeabd9d-e33b-4169-b901-b58e28c1ca2e"
   },
   "outputs": [
    {
     "data": {
      "text/plain": [
       "2"
      ]
     },
     "execution_count": 1,
     "metadata": {
      "tags": []
     },
     "output_type": "execute_result"
    }
   ],
   "source": [
    "1 + 1\n",
    "\n"
   ]
  },
  {
   "cell_type": "code",
   "execution_count": null,
   "metadata": {
    "colab": {
     "base_uri": "https://localhost:8080/"
    },
    "executionInfo": {
     "elapsed": 24,
     "status": "ok",
     "timestamp": 1627476432869,
     "user": {
      "displayName": "Princess Eneck",
      "photoUrl": "",
      "userId": "17294586059492752936"
     },
     "user_tz": -60
    },
    "id": "UK39iohNnHPN",
    "outputId": "7a35f0fd-b665-4d3e-a53e-08c0613f590d"
   },
   "outputs": [
    {
     "data": {
      "text/plain": [
       "7.0"
      ]
     },
     "execution_count": 2,
     "metadata": {
      "tags": []
     },
     "output_type": "execute_result"
    }
   ],
   "source": [
    "2 * 3.5"
   ]
  },
  {
   "cell_type": "code",
   "execution_count": null,
   "metadata": {
    "colab": {
     "base_uri": "https://localhost:8080/"
    },
    "executionInfo": {
     "elapsed": 17,
     "status": "ok",
     "timestamp": 1627476432870,
     "user": {
      "displayName": "Princess Eneck",
      "photoUrl": "",
      "userId": "17294586059492752936"
     },
     "user_tz": -60
    },
    "id": "jCDISZhgnHPO",
    "outputId": "27fa6728-f967-44ff-c35a-4bab398d8042"
   },
   "outputs": [
    {
     "data": {
      "text/plain": [
       "7.0"
      ]
     },
     "execution_count": 3,
     "metadata": {
      "tags": []
     },
     "output_type": "execute_result"
    }
   ],
   "source": [
    "1 + 1\n",
    "2 * 3.5"
   ]
  },
  {
   "cell_type": "markdown",
   "metadata": {
    "id": "npQ8TTAxnHPO"
   },
   "source": [
    "In the first cell we compute `1 + 1`, and Python returns the result `2`. We can think of this as a very short program. Similarly, in the second cell we compute `2 * 3.5`, and Python returns the result `7.0`.\n",
    "\n",
    "However, in the third cell, when we combine these two statements as sequential lines, we only see Python return `7.0`. Why is that?\n",
    "\n",
    "Python can only return one result at the end of the cell, so the first line is evaluated, but we never see the result. One way we can report intermediate results is using `print`."
   ]
  },
  {
   "cell_type": "code",
   "execution_count": null,
   "metadata": {
    "id": "KpDqcE8YnHPP",
    "outputId": "37a87304-f184-4912-8474-f1206127f6b9"
   },
   "outputs": [
    {
     "name": "stdout",
     "output_type": "stream",
     "text": [
      "2\n",
      "7.0\n"
     ]
    }
   ],
   "source": [
    "print(1 + 1)\n",
    "print(2 * 3.5)"
   ]
  },
  {
   "cell_type": "markdown",
   "metadata": {
    "id": "O4t8qU3enHPQ"
   },
   "source": [
    "We can also include lines in the code that the computer won't execute. We call these lines **comments**, because they are used to add notes and explanations to the code. We use `#` to indicate that we are making a comment."
   ]
  },
  {
   "cell_type": "code",
   "execution_count": null,
   "metadata": {
    "id": "97WpCvNlnHPR",
    "outputId": "f8d4b5d8-a832-4793-ca29-9d8721a17bc5"
   },
   "outputs": [
    {
     "name": "stdout",
     "output_type": "stream",
     "text": [
      "1 + 1 is 2\n",
      "All done!\n"
     ]
    }
   ],
   "source": [
    "print('1 + 1 is', 1 + 1)\n",
    "# this is a comment, Python won't try to execute it\n",
    "print('All done!')"
   ]
  },
  {
   "cell_type": "markdown",
   "metadata": {
    "id": "8eQzdxtSnHPS"
   },
   "source": [
    "Often we won't want to only print intermediate results, but _store_ them for later use. We can store a result in the computer's memory by assigning it to a **variable**."
   ]
  },
  {
   "cell_type": "code",
   "execution_count": null,
   "metadata": {
    "id": "NRokyL3dnHPS",
    "outputId": "a9721de4-7ee4-4e64-9839-8fa2512e4c0d"
   },
   "outputs": [
    {
     "name": "stdout",
     "output_type": "stream",
     "text": [
      "7.0\n"
     ]
    }
   ],
   "source": [
    "first_result = 1 + 1\n",
    "final_result = first_result * 3.5\n",
    "\n",
    "print(final_result)"
   ]
  },
  {
   "cell_type": "markdown",
   "metadata": {
    "id": "iB9X75RgnHPT"
   },
   "source": [
    "Here we were able to use the result of the first calculation (stored in the variable `first_result`) in our second calculation. We store the second result in `final_result`, which we can print at the end of the cell.\n",
    "\n",
    "Variables help us keep track of the information we need to successfully execute a program. Variables can be used to store a variety of types of information."
   ]
  },
  {
   "cell_type": "code",
   "execution_count": null,
   "metadata": {
    "id": "Gp6ZsMsFnHPT",
    "outputId": "6d8a9452-6123-4511-b5db-6a9f8e8d6a74"
   },
   "outputs": [
    {
     "name": "stdout",
     "output_type": "stream",
     "text": [
      "My name is Olouge\n",
      "My age is 27\n",
      "My favorite number is 5\n",
      "I own a dog: False\n"
     ]
    }
   ],
   "source": [
    "my_name = 'Olouge'\n",
    "my_age = 27\n",
    "my_favorite_number = 5\n",
    "has_dog = False\n",
    "\n",
    "print('My name is', my_name)\n",
    "print('My age is', my_age)\n",
    "print('My favorite number is', my_favorite_number)\n",
    "print('I own a dog:', has_dog)"
   ]
  },
  {
   "cell_type": "markdown",
   "metadata": {
    "id": "uVB8Zjl4nHPU"
   },
   "source": [
    "Since variables can be used to store so many types of information, it's a good idea to give those variables descriptive names like I did. This helps us write code that is easy to read, which helps when we're trying to find and fix mistakes, or share code with others."
   ]
  },
  {
   "cell_type": "code",
   "execution_count": null,
   "metadata": {
    "id": "r8UspPvDnHPU",
    "outputId": "216601b2-5748-4e39-9a43-2765c3c245a1"
   },
   "outputs": [
    {
     "name": "stdout",
     "output_type": "stream",
     "text": [
      "<class 'str'>\n",
      "<class 'int'>\n",
      "<class 'int'>\n",
      "<class 'bool'>\n"
     ]
    }
   ],
   "source": [
    "print(type(my_name))\n",
    "print(type(my_age))\n",
    "print(type(my_favorite_number))\n",
    "print(type(has_dog))"
   ]
  },
  {
   "cell_type": "markdown",
   "metadata": {
    "id": "9S9EZOiLnHPV"
   },
   "source": [
    "A **string** is a sequence of characters. An **integer** has the same meaning as in mathematics (i.e. \"whole numbers\"). A **float** or **floating point number** refers to a decimal number (i.e. \"real number\" in mathematics); it is called a float because the decimal point is allowed to \"float\" through the digits, allowing us to represent both big numbers (e.g. 204939.12) and small numbers (e.g. 0.000239). A **bool** or **boolean** refers to a variable that is either true or false.\n",
    "\n",
    "These are just a few types of data we will encounter, and we will explore others later on in the series.\n",
    "\n",
    "In Python, we can assign any type of data to a variable without declaring what type the variable will be in advance. Not all programming languages behave this way."
   ]
  },
  {
   "cell_type": "markdown",
   "metadata": {
    "id": "PWcmUaCqnHPV"
   },
   "source": [
    "### Exercises\n",
    "\n",
    "1. Define `my_name` and `my_age` variables with values corresponding to your own name and age and print them. Also print the variable types\n",
    "1. Use your `my_age` variable to print out how old you will be in 10 years."
   ]
  },
  {
   "cell_type": "code",
   "execution_count": null,
   "metadata": {
    "id": "PECiyNg1nHPV"
   },
   "outputs": [],
   "source": [
    "my_name =  #TODO\n",
    "my_age = ..... #TODO\n",
    "\n",
    "print('My name is', my_name)\n",
    "print('My Age is', my_age)"
   ]
  },
  {
   "cell_type": "code",
   "execution_count": null,
   "metadata": {
    "id": "tjO-6s-bnHPW"
   },
   "outputs": [],
   "source": [
    "print(type(.....))\n",
    "print(type(.....))"
   ]
  },
  {
   "cell_type": "code",
   "execution_count": null,
   "metadata": {
    "id": "Ik4H0GgrnHPX"
   },
   "outputs": [],
   "source": [
    "my_age_in_10_years = ..... #TODO\n",
    "\n",
    "print('In 10 years from now, I will be', ....)\n",
    "\n",
    "print(\"In 10 years, I will be {} years old\".format(....))"
   ]
  },
  {
   "cell_type": "markdown",
   "metadata": {
    "id": "hyvzWmCOnHPX"
   },
   "source": [
    "## Functions, Methods & Packages\n",
    "\n",
    "## Functions: Reusable bits of code\n",
    "\n",
    "### What is a function?\n",
    "To recap, Python can do some very useful things: \n",
    "\n",
    "*   Store single values to variables\n",
    "*   Store multiple values to the same variable, and keep track of their order in lists.\n",
    "*   Loop over lists and other iterables to run certain blocks of code repeatedly.\n",
    "*   Evaluate conditions to control *which* blocks of code get run.\n",
    "\n",
    "For example, that BMI calculator you built -- pretty cool, right? But what if you wanted to calculate the BMI of ten people? Swapping in values for each person would get pretty tedious.  \n",
    "\n",
    "That's where ***functions*** come in!  \n",
    "\n",
    "You can think of functions as ***sets of instructions that are packaged together in order to perform a specific action***. You also call a function by using its name, so, like variables, they must be specific and case-sensitive. \n",
    "\n",
    "Many programs react to user input. Functions allow us to define a task we would like the computer to carry out based on input. A simple function in Python might look like this:"
   ]
  },
  {
   "cell_type": "code",
   "execution_count": null,
   "metadata": {
    "id": "VdVMPd7rnHPX"
   },
   "outputs": [],
   "source": [
    "def square(number):\n",
    "    return number**2"
   ]
  },
  {
   "cell_type": "markdown",
   "metadata": {
    "id": "WgcrNfcqnHPY"
   },
   "source": [
    "We define functions using the `def` keyword. Next comes the name of the function, which in this case is `square`. We then enclose the function's input in parentheses, in this case `number`. We use `:` to tell Python we're ready to write the body of the function.\n",
    "\n",
    "In this case the body of the function is very simple; we return the square of `number` (we use `**` for exponents in Python). The keyword `return` signals that the function will generate some output. Not every function will have a `return` statement, but many will. A `return` statement ends a function.\n",
    "\n",
    "Let's see our function in action:"
   ]
  },
  {
   "cell_type": "code",
   "execution_count": null,
   "metadata": {
    "id": "7c79y-USnHPY",
    "outputId": "ec39d277-574f-461b-f873-ca112a2d39cc"
   },
   "outputs": [
    {
     "name": "stdout",
     "output_type": "stream",
     "text": [
      "30.25\n",
      "36\n"
     ]
    }
   ],
   "source": [
    "# we can store function output in variables\n",
    "squared = square(5.5)\n",
    "\n",
    "print(squared)\n",
    "\n",
    "my_number = 6\n",
    "# we can also use variables as function input\n",
    "print(square(my_number))"
   ]
  },
  {
   "cell_type": "markdown",
   "metadata": {
    "id": "Yq8JSSjZnHPY"
   },
   "source": [
    "We can pass different input to the `square` function, including variables. When we passed a float to `square`, it returned a float. When we passed an integer, `square` returned an integer. In both cases the input was interpreted by the function as the argument `number`.\n",
    "\n",
    "Not all possible inputs are valid."
   ]
  },
  {
   "cell_type": "code",
   "execution_count": null,
   "metadata": {
    "id": "_94YIgLZnHPY",
    "outputId": "e0dfd8e1-4922-4c82-ff04-db938875481e"
   },
   "outputs": [
    {
     "ename": "TypeError",
     "evalue": "unsupported operand type(s) for ** or pow(): 'str' and 'int'",
     "output_type": "error",
     "traceback": [
      "\u001b[0;31m---------------------------------------------------------------------------\u001b[0m",
      "\u001b[0;31mTypeError\u001b[0m                                 Traceback (most recent call last)",
      "\u001b[0;32m<ipython-input-13-ae2e519c2d8c>\u001b[0m in \u001b[0;36m<module>\u001b[0;34m\u001b[0m\n\u001b[0;32m----> 1\u001b[0;31m \u001b[0mprint\u001b[0m\u001b[0;34m(\u001b[0m\u001b[0msquare\u001b[0m\u001b[0;34m(\u001b[0m\u001b[0;34m'banana'\u001b[0m\u001b[0;34m)\u001b[0m\u001b[0;34m)\u001b[0m\u001b[0;34m\u001b[0m\u001b[0;34m\u001b[0m\u001b[0m\n\u001b[0m",
      "\u001b[0;32m<ipython-input-11-14ad5632da12>\u001b[0m in \u001b[0;36msquare\u001b[0;34m(number)\u001b[0m\n\u001b[1;32m      1\u001b[0m \u001b[0;32mdef\u001b[0m \u001b[0msquare\u001b[0m\u001b[0;34m(\u001b[0m\u001b[0mnumber\u001b[0m\u001b[0;34m)\u001b[0m\u001b[0;34m:\u001b[0m\u001b[0;34m\u001b[0m\u001b[0;34m\u001b[0m\u001b[0m\n\u001b[0;32m----> 2\u001b[0;31m     \u001b[0;32mreturn\u001b[0m \u001b[0mnumber\u001b[0m\u001b[0;34m**\u001b[0m\u001b[0;36m2\u001b[0m\u001b[0;34m\u001b[0m\u001b[0;34m\u001b[0m\u001b[0m\n\u001b[0m",
      "\u001b[0;31mTypeError\u001b[0m: unsupported operand type(s) for ** or pow(): 'str' and 'int'"
     ]
    }
   ],
   "source": [
    "print(square('banana'))"
   ]
  },
  {
   "cell_type": "markdown",
   "metadata": {
    "id": "Jz7MUzoenHPY"
   },
   "source": [
    "We ran into an error because `'banana'` is a string, not a number. We should be careful to make sure that the input for a function makes sense for that function's purpose. We'll talk more about errors like this one later on.\n",
    "\n",
    "### Exercises\n",
    "\n",
    "1. Write a function to cube a number. Call this function passing test values to it and print the result.\n",
    "2. Write a function, `say_hello` which takes in a name variable and print out \"Hello name\".  `say_hello(\"zach\")` should print `\"Hello zach\"`. Call this function passing test values to it and print the result."
   ]
  },
  {
   "cell_type": "markdown",
   "metadata": {
    "id": "2a_-N0gWnHPZ"
   },
   "source": [
    "Ex 1. Write a function to cube a number."
   ]
  },
  {
   "cell_type": "code",
   "execution_count": null,
   "metadata": {
    "id": "_nOkXMaznHPZ"
   },
   "outputs": [],
   "source": [
    "# TODO"
   ]
  },
  {
   "cell_type": "code",
   "execution_count": null,
   "metadata": {
    "id": "ACgl99llnHPZ"
   },
   "outputs": [],
   "source": []
  },
  {
   "cell_type": "code",
   "execution_count": null,
   "metadata": {
    "id": "Wj4kk7QinHPZ",
    "outputId": "3827999e-49a8-4c9a-a9d7-0de7a5d31cfc"
   },
   "outputs": [
    {
     "data": {
      "text/plain": [
       "27"
      ]
     },
     "execution_count": 17,
     "metadata": {
      "tags": []
     },
     "output_type": "execute_result"
    }
   ],
   "source": []
  },
  {
   "cell_type": "code",
   "execution_count": null,
   "metadata": {
    "id": "aQoF3kphnHPa",
    "outputId": "9f685412-55a2-4602-f38d-d72b5e603566"
   },
   "outputs": [
    {
     "data": {
      "text/plain": [
       "8"
      ]
     },
     "execution_count": 18,
     "metadata": {
      "tags": []
     },
     "output_type": "execute_result"
    }
   ],
   "source": []
  },
  {
   "cell_type": "markdown",
   "metadata": {
    "id": "qRx2P7zEnHPa"
   },
   "source": [
    "Ex 2. Write a function, `say_hello` which takes in a name variable and print out \"Hello name\".  `say_hello(\"zach\")` should print `\"Hello zach\"`."
   ]
  },
  {
   "cell_type": "code",
   "execution_count": null,
   "metadata": {
    "id": "yC2MMKLwnHPa"
   },
   "outputs": [],
   "source": [
    "#TODO"
   ]
  },
  {
   "cell_type": "code",
   "execution_count": null,
   "metadata": {
    "id": "2rfjN2PpnHPb"
   },
   "outputs": [],
   "source": []
  },
  {
   "cell_type": "code",
   "execution_count": null,
   "metadata": {
    "id": "Ths_MJK8nHPb",
    "outputId": "82050dd0-8355-4854-e6e7-122786809b82"
   },
   "outputs": [
    {
     "name": "stdout",
     "output_type": "stream",
     "text": [
      "Hello Olouge\n"
     ]
    }
   ],
   "source": []
  },
  {
   "cell_type": "code",
   "execution_count": null,
   "metadata": {
    "id": "nU4uuV6_nHPb"
   },
   "outputs": [],
   "source": []
  },
  {
   "cell_type": "code",
   "execution_count": null,
   "metadata": {
    "id": "PjtSeaaDnHPb"
   },
   "outputs": [],
   "source": []
  },
  {
   "cell_type": "markdown",
   "metadata": {
    "id": "H85eItEZnHPb"
   },
   "source": [
    "### Recap: BMI Exercises"
   ]
  },
  {
   "cell_type": "code",
   "execution_count": null,
   "metadata": {
    "id": "M17jWqGTnHPc"
   },
   "outputs": [],
   "source": [
    "# Let's calculate Joe's BMI (units in meters and kgs):\n",
    "\n",
    "height = 1.82\n",
    "weight = 84.2\n",
    "\n",
    "# Your first function!\n",
    "\n",
    "def calculate_bmi(height, weight):\n",
    "    '''Calculates the BMI of an individual from their height and weight.'''\n",
    "    BMI = weight / height**2\n",
    "    return BMI"
   ]
  },
  {
   "cell_type": "code",
   "execution_count": null,
   "metadata": {
    "id": "FL-PHFsqnHPc"
   },
   "outputs": [],
   "source": [
    "print('This is the agruments')"
   ]
  },
  {
   "cell_type": "code",
   "execution_count": null,
   "metadata": {
    "id": "0bRk5psYnHPc"
   },
   "outputs": [],
   "source": [
    "# Putting a question mark before a function call\n",
    "# will bring up the documentation for that function (docstring)\n",
    "?len()"
   ]
  },
  {
   "cell_type": "code",
   "execution_count": null,
   "metadata": {
    "id": "j0JLkBRGnHPc"
   },
   "outputs": [],
   "source": [
    "# We can \"invoke\" or \"call\" a function by \"passing-in\" \"arguments\" (literal \n",
    "# values or varialbes) inside of the parentheses when calling a function.\n",
    "\n",
    "height = 1.82\n",
    "weight = 84.2\n",
    "\n",
    "calculate_bmi(1.5, 60)"
   ]
  },
  {
   "cell_type": "markdown",
   "metadata": {
    "id": "Zs3nPetMnHPd"
   },
   "source": [
    "### Breakdown:\n",
    "\n",
    "*   \"def\" is a keyword used to declare a function.\n",
    "*   \"calculate_bmi\" is the name of our new function.\n",
    "*   \"(height, weight):\" are the parameters our function requires in order to run: *height and weight*. The colon at the end indicates the beginning of the code block, i.e. where the instructions begin. The parameters as written here are simply placeholders reprensenting the values that will be passed in at the time of the function call. \n",
    "*  \"Docstring\" is short for documentation string. Here you can briefly explain what the function does for easy reference.\n",
    "*  \"return\" is another keyword used to specify the value our function will output when it is executed.\n",
    "*   In this case, that value is weight divided by the square of height: the formula for BMI. \n",
    "\n",
    "\n",
    "\n",
    "**Check out this supplemental resource on Python Functions** [here.](https://www.tutorialspoint.com/python/python_functions.htm)\n",
    "\n",
    "\n"
   ]
  },
  {
   "cell_type": "markdown",
   "metadata": {
    "id": "eqiQPgcanHPd"
   },
   "source": [
    "When we call a function we write its name and then on the end put two parenthesis, these parenthesis are sometimes called \"invoking parenthesis\" because they are what distinguish calling a function accessing a variable.\n",
    "\n",
    "We then \"pass in\" values as \"arguments\" in our function call. Below, the height and weight variables are the arguments that we are passing into the calculate_bmi funciton."
   ]
  },
  {
   "cell_type": "code",
   "execution_count": null,
   "metadata": {
    "id": "nrKcvITQnHPd"
   },
   "outputs": [],
   "source": [
    "# Now, to use it, we call the function by its name:\n",
    "\n",
    "height = 1.82\n",
    "weight = 84.2\n",
    "\n",
    "calculate_bmi(height, weight)"
   ]
  },
  {
   "cell_type": "code",
   "execution_count": null,
   "metadata": {
    "id": "-gDXnzPVnHPe"
   },
   "outputs": [],
   "source": [
    "# We can also assign the returned value of our function to a new variable:\n",
    "joe_height = 1.7\n",
    "joe_weight = 80\n",
    "\n",
    "joe_bmi = calculate_bmi(joe_height, joe_weight)\n",
    "print(joe_bmi)"
   ]
  },
  {
   "cell_type": "markdown",
   "metadata": {
    "id": "UUbxPWnZnxuG"
   },
   "source": [
    "When we call a function we write its name and then on the end put two parenthesis, these parenthesis are sometimes called \"invoking parenthesis\" because they are what distinguish calling a function accessing a variable.\n",
    "\n",
    "We then \"pass in\" values as \"arguments\" in our function call. Below, the height and weight variables are the arguments that we are passing into the calculate_bmi funciton."
   ]
  },
  {
   "cell_type": "code",
   "execution_count": null,
   "metadata": {
    "id": "l1WVC_TEnwFJ"
   },
   "outputs": [],
   "source": [
    "# Now, to use it, we call the function by its name:\n",
    "\n",
    "height = 1.82\n",
    "weight = 84.2\n",
    "\n",
    "calculate_bmi(height, weight)"
   ]
  },
  {
   "cell_type": "code",
   "execution_count": null,
   "metadata": {
    "id": "iAaZMS-_n3OM"
   },
   "outputs": [],
   "source": [
    "# We can also assign the returned value of our function to a new variable:\n",
    "joe_height = 1.7\n",
    "joe_weight = 80\n",
    "\n",
    "joe_bmi = calculate_bmi(joe_height, joe_weight)\n",
    "print(joe_bmi)"
   ]
  },
  {
   "cell_type": "markdown",
   "metadata": {
    "id": "15Ik2wtKn-6N"
   },
   "source": [
    "### Lets write a function that can calculate the mean (average) of a list of values."
   ]
  },
  {
   "cell_type": "code",
   "execution_count": null,
   "metadata": {
    "id": "F6Vx3rM0oDWx"
   },
   "outputs": [],
   "source": [
    "data = [5,8,4,2,9,8,4,6,8,5,4,5,6,9,4]\n",
    "\n",
    "def mean(number_list):\n",
    "      '''\n",
    "      Calculates the average of a list of numbers\n",
    "      This function cannot accept lists with non-numeric values\n",
    "  '''\n",
    "  total = 0\n",
    "    for number in number_list:\n",
    "    total += number\n",
    "    average = total / len(number_list)\n",
    "  return average\n",
    "\n",
    "mean(data)\n",
    "\n",
    "# Example of odd things in list to break function\n",
    "# unique_list = [4, 'cat', True, [], {\"hi\": \"hello\"}]\n",
    "# mean(unique_list)"
   ]
  },
  {
   "cell_type": "code",
   "execution_count": null,
   "metadata": {
    "id": "ZZzdz3DLn5pn"
   },
   "outputs": [],
   "source": []
  },
  {
   "cell_type": "markdown",
   "metadata": {
    "id": "3_Az24yRnHPe"
   },
   "source": [
    "### Why Functions?\n",
    "We can see that functions are useful for handling user input, but they also come in handy in numerous other cases.  One example is when we want to perform an action multiple times on different input.  If I want to square a bunch of numbers, in particular the numbers between 1 and 10, I can do this pretty easily (later we will learn about iteration which will make this even easier!)"
   ]
  },
  {
   "cell_type": "code",
   "execution_count": null,
   "metadata": {
    "id": "SBIwweS8nHPe"
   },
   "outputs": [],
   "source": [
    "1**2\n",
    "2**2\n",
    "3**2\n",
    "4**2\n",
    "5**2\n",
    "6**2\n",
    "7**2\n",
    "8**2\n",
    "9**2"
   ]
  },
  {
   "cell_type": "markdown",
   "metadata": {
    "id": "TzshC48NnHPf"
   },
   "source": [
    "It seems I forgot to save the answers or at least print them.  This is easy:"
   ]
  },
  {
   "cell_type": "code",
   "execution_count": null,
   "metadata": {
    "id": "JOhNZQxDnHPf"
   },
   "outputs": [],
   "source": [
    "print(1**2)\n",
    "print(2**2)\n",
    "print(3**2)\n",
    "print(4**2)\n",
    "print(5**2)\n",
    "print(6**2)\n",
    "print(7**2)\n",
    "print(8**2)\n",
    "print(9**2)"
   ]
  },
  {
   "cell_type": "markdown",
   "metadata": {
    "id": "gW7Amo2enHPf"
   },
   "source": [
    "That worked!  However, what if I now want to go back and add two to all the answers?  Clearly changing each instance is not the right way to do it.  Lets instead define a function to do the work for us."
   ]
  },
  {
   "cell_type": "code",
   "execution_count": null,
   "metadata": {
    "id": "4bEWQxQcnHPf"
   },
   "outputs": [],
   "source": [
    "def do_it(x):\n",
    "    print(x**2 + 2)"
   ]
  },
  {
   "cell_type": "markdown",
   "metadata": {
    "id": "t5M-XLQWnHPg"
   },
   "source": [
    "Now we can just call the function on every element.  If we want to change the output, we just need to change the function in one place, not in all places we want to use the function!"
   ]
  },
  {
   "cell_type": "code",
   "execution_count": null,
   "metadata": {
    "id": "nSw2-UkKnHPg"
   },
   "outputs": [],
   "source": [
    "do_it(1)\n",
    "do_it(2)\n",
    "do_it(3)\n",
    "do_it(4)\n",
    "do_it(5)\n",
    "do_it(6)\n",
    "do_it(7)\n",
    "do_it(8)\n",
    "do_it(9)"
   ]
  },
  {
   "cell_type": "markdown",
   "metadata": {
    "id": "rQxfVtwtnHPg"
   },
   "source": [
    "Splitting out the work into functions is often a way to make code more modular and understandable.  It also helps ensure your code is correct.  If we write a function and test it to be correct, we know it will be correct every time we use it.  If we don't break out code into a function, it is very easy to make typos or other errors which will cause our programs to break.  \n",
    "\n",
    "### Exercises\n",
    "\n",
    "1. Modify the `do_it` function and call the new function `do_it_again` to print the square of the value it currently prints."
   ]
  },
  {
   "cell_type": "code",
   "execution_count": null,
   "metadata": {
    "id": "8vyS1_x7nHPg"
   },
   "outputs": [],
   "source": [
    "#TODOD"
   ]
  },
  {
   "cell_type": "code",
   "execution_count": null,
   "metadata": {
    "id": "SG8rwGbcnHPg"
   },
   "outputs": [],
   "source": [
    "do_it_again(1)\n",
    "do_it_again(2)\n",
    "do_it_again(3)\n",
    "do_it_again(4)\n",
    "do_it_again(5)\n",
    "do_it_again(6)\n",
    "do_it_again(7)\n",
    "do_it_again(8)\n",
    "do_it_again(9)"
   ]
  },
  {
   "cell_type": "markdown",
   "metadata": {
    "id": "JDAGQmwFnHPh"
   },
   "source": [
    "## Syntax\n",
    "\n",
    "As our instructions to the computer become more complicated, we will need to organize them in a way the computer understands. We've already seen an example of this with our `square` function. There was a specific order to the words and specific symbols we had to use to let Python know which part of the function was the definition and which part was the body, or which part was the name of the function and which part was the argument. We call the rules for organizing code the programming language's **syntax**.\n",
    "\n",
    "Python's syntax is very streamlined so that code is readable and intuitive. Python accomplishes this by using whitespace to organize code. Let's look at some examples."
   ]
  },
  {
   "cell_type": "code",
   "execution_count": null,
   "metadata": {
    "id": "telEWokCnHPh"
   },
   "outputs": [],
   "source": [
    "def example_a():\n",
    "    print('example_a is running')\n",
    "    print('returning value \"a\"')\n",
    "    return 'a'\n",
    "\n",
    "example_a()"
   ]
  },
  {
   "cell_type": "code",
   "execution_count": null,
   "metadata": {
    "id": "w3ooGSHxnHPh"
   },
   "outputs": [],
   "source": [
    "def example_b():\n",
    "    print('example_b is running')\n",
    "    print('exiting without returning a value')\n",
    "\n",
    "example_b()"
   ]
  },
  {
   "cell_type": "markdown",
   "metadata": {
    "id": "TOWR6L6TnHPi"
   },
   "source": [
    "The function `example_a` ends with a return statement, but `example_b` has no return statement. How does Python know where `example_b` ends? We use indentation to indicate which lines are part of the function and which aren't. The indented lines are all grouped together under the function definition. We'll see this format again for controlling whether certain sections of code execute."
   ]
  },
  {
   "cell_type": "markdown",
   "metadata": {
    "id": "OTFIHpJNnHPi"
   },
   "source": [
    "### What are built-in functions?"
   ]
  },
  {
   "cell_type": "markdown",
   "metadata": {
    "id": "OhPsZAIMnHPi"
   },
   "source": [
    "You may not realize it but you have already been using some functions. In fact, we just used one above when we used the `len()` function. Python comes with some helpful \"built-in\" functions that are simply part of the Python language and help us do basic operations. The `type()` function is another example of a built-in function."
   ]
  },
  {
   "cell_type": "code",
   "execution_count": null,
   "metadata": {
    "id": "T8J7zD-InHPi"
   },
   "outputs": [],
   "source": [
    "# Let's see the data type of bmi_joe:\n",
    "type(joe_bmi)"
   ]
  },
  {
   "cell_type": "code",
   "execution_count": null,
   "metadata": {
    "id": "AAX9MXo-nHPi"
   },
   "outputs": [],
   "source": [
    "# Another common built-in function is print()\n",
    "print(\"print() forcefully prints out whatever you pass into it!\")"
   ]
  },
  {
   "cell_type": "markdown",
   "metadata": {
    "id": "vMxvPAHynHPi"
   },
   "source": [
    "Some built-in functions work well with lists. Lets look at a few."
   ]
  },
  {
   "cell_type": "code",
   "execution_count": null,
   "metadata": {
    "id": "u2iIRrcznHPi"
   },
   "outputs": [],
   "source": [
    "# Let's save a collection of values to a list:\n",
    "values = [11.82, 65, 77, 19.89, 180, 1078, 173]\n",
    "\n",
    "print(values)"
   ]
  },
  {
   "cell_type": "markdown",
   "metadata": {
    "id": "2bOqKff3nHPi"
   },
   "source": [
    "We can output the number of items in a list by using the `len()` function"
   ]
  },
  {
   "cell_type": "code",
   "execution_count": null,
   "metadata": {
    "id": "z9VuDVGlnHPi"
   },
   "outputs": [],
   "source": [
    "len(values)"
   ]
  },
  {
   "cell_type": "markdown",
   "metadata": {
    "id": "LEp4eDDznHPi"
   },
   "source": [
    "Other buil-in functions help tell us the smallest or largest values in a list, or will even help us sort a list."
   ]
  },
  {
   "cell_type": "code",
   "execution_count": null,
   "metadata": {
    "id": "EOBLDzQ0nHPk"
   },
   "outputs": [],
   "source": [
    "# Smallest value:\n",
    "min(values)"
   ]
  },
  {
   "cell_type": "code",
   "execution_count": null,
   "metadata": {
    "id": "8yPLRcgmnHPk"
   },
   "outputs": [],
   "source": [
    "# Largest value:\n",
    "max(values)"
   ]
  },
  {
   "cell_type": "code",
   "execution_count": null,
   "metadata": {
    "id": "wGJGFrS5nHPk"
   },
   "outputs": [],
   "source": [
    "# Sort the values:\n",
    "sorted(values)"
   ]
  },
  {
   "cell_type": "markdown",
   "metadata": {
    "id": "uQyvtHBPnHPk"
   },
   "source": [
    "Useful, huh? There are far too many built-in funtions to cover them all right now, so take a look at the documentation and play around with them.\n",
    "\n",
    "With practice, you'll learn which built-in functions come standard, and which you'll need to create for yourself.\n",
    "\n",
    "**Read more about Python's built-in functions** [here.](https://docs.python.org/3/library/functions.html)"
   ]
  },
  {
   "cell_type": "markdown",
   "metadata": {
    "id": "IjfEpIxlnHPk"
   },
   "source": [
    "### A special built-in function: *help()*\n",
    "Help is a really useful function that pulls up documentation on other functions!"
   ]
  },
  {
   "cell_type": "code",
   "execution_count": null,
   "metadata": {
    "id": "nWzFaTobnHPk"
   },
   "outputs": [],
   "source": [
    "help(sorted)"
   ]
  },
  {
   "cell_type": "code",
   "execution_count": null,
   "metadata": {
    "id": "qA1VYMiEnHPk"
   },
   "outputs": [],
   "source": [
    "?sorted"
   ]
  },
  {
   "cell_type": "markdown",
   "metadata": {
    "id": "sDVOm1V0oQPz"
   },
   "source": [
    "### Methods: built-in functions for different data types\n",
    "Remember how different data types have different behaviors? Well they also have their own special functions called *methods*.  \n",
    "\n",
    "Let's review:"
   ]
  },
  {
   "cell_type": "code",
   "execution_count": null,
   "metadata": {
    "id": "jqYBye_kons3"
   },
   "outputs": [],
   "source": [
    "# Int\n",
    "x = 24\n",
    "\n",
    "# Float\n",
    "y = 12.3\n",
    "\n",
    "# What do they have in common? They are all OBJECTS"
   ]
  },
  {
   "cell_type": "markdown",
   "metadata": {
    "id": "-vYsU7-joq-c"
   },
   "source": [
    "Each of the structures above is what's called an ***object*** in Python. They are made up of the values assigned to them via variables. Each object represents a different data _type_ depending on its value(s). \n",
    "\n",
    "They each have unique functions, called ***methods***, that apply only to objects of that data type. For example..."
   ]
  },
  {
   "cell_type": "markdown",
   "metadata": {
    "id": "YzD4NJZNoupB"
   },
   "source": [
    "### String Methods"
   ]
  },
  {
   "cell_type": "code",
   "execution_count": null,
   "metadata": {
    "id": "OsUCVMQ1oruh"
   },
   "outputs": [],
   "source": [
    "# String \n",
    "my_string = \"this is a string\""
   ]
  },
  {
   "cell_type": "code",
   "execution_count": null,
   "metadata": {
    "id": "xSMmchljoyU5"
   },
   "outputs": [],
   "source": [
    "my_string.upper()"
   ]
  },
  {
   "cell_type": "code",
   "execution_count": null,
   "metadata": {
    "id": "o6Zp0FR1o1Rz"
   },
   "outputs": [],
   "source": [
    "\"this is a string\".upper()"
   ]
  },
  {
   "cell_type": "code",
   "execution_count": null,
   "metadata": {
    "id": "oiuQML8vo4Ki"
   },
   "outputs": [],
   "source": [
    "upper(\"this is not a built-in function\")"
   ]
  },
  {
   "cell_type": "markdown",
   "metadata": {
    "id": "QLd0Kpsmo_Zb"
   },
   "source": [
    "Methods are functions that are specific to a certain object -a certain data type. Above we have shown the `.upper()` method that can be called on strings. You'll notice that we can call it on either a variable that holds a string value or on the string value directly. \n",
    "\n",
    "Whenever we call a method we do so by using what is called \"Dot Notation\" This simply means that we call the function by putting a dot `.` between the method call and the variable name. This indicates to python that we want to call the method on that specific object/variable. "
   ]
  },
  {
   "cell_type": "code",
   "execution_count": null,
   "metadata": {
    "id": "HNSP-V2LpCdK"
   },
   "outputs": [],
   "source": [
    "my_string.capitalize()"
   ]
  },
  {
   "cell_type": "code",
   "execution_count": null,
   "metadata": {
    "id": "o5KEjezupE7w"
   },
   "outputs": [],
   "source": [
    "my_string.split()"
   ]
  },
  {
   "cell_type": "markdown",
   "metadata": {
    "id": "b12gW48tpIbB"
   },
   "source": [
    "Additional [string methods](https://www.programiz.com/python-programming/methods/string)"
   ]
  },
  {
   "cell_type": "markdown",
   "metadata": {
    "id": "MTSFd35lpLno"
   },
   "source": [
    "### Lists Methods\n",
    "\n",
    "We have already used a few list methods when working with lists. We have used methods like `.append()`, `.pop()`, `.remove()`, and `.insert()`, \n",
    "\n",
    "Additional [list methods](https://www.programiz.com/python-programming/methods/list)"
   ]
  },
  {
   "cell_type": "code",
   "execution_count": null,
   "metadata": {
    "id": "31RsIFL2pSPH"
   },
   "outputs": [],
   "source": [
    "weekdays = [\"Monday\", \"Tuesday\", \"Wednesday\", \"Thursday\"]"
   ]
  },
  {
   "cell_type": "code",
   "execution_count": null,
   "metadata": {
    "id": "3Bwy--wXpU90"
   },
   "outputs": [],
   "source": [
    "# Find the index position of an element in a list:\n",
    "weekdays.index(\"Wednesday\")"
   ]
  },
  {
   "cell_type": "code",
   "execution_count": null,
   "metadata": {
    "id": "mtJfrXtLpXvN"
   },
   "outputs": [],
   "source": [
    "# Don't work across the board:\n",
    "weekdays.remove(\"Tuesday\")\n",
    "weekdays"
   ]
  },
  {
   "cell_type": "code",
   "execution_count": null,
   "metadata": {
    "id": "APemkOdnpans"
   },
   "outputs": [],
   "source": [
    "# Some methods can change their objects. For example, we forgot to include the \n",
    "# last weekday in our weekday list:\n",
    "weekdays.append(\"Friday\")\n",
    "weekdays"
   ]
  },
  {
   "cell_type": "markdown",
   "metadata": {
    "id": "GiqqcTqnpd9b"
   },
   "source": [
    "**Remember:**\n",
    "\n",
    "\n",
    "*   In Python, _everything_ is an object.\n",
    "*   Different objects have different methods, depending on their data types.\n",
    "*   Some methods change the object they're called on. So be careful!\n",
    "\n"
   ]
  },
  {
   "cell_type": "markdown",
   "metadata": {
    "id": "VRD-DN5FpijA"
   },
   "source": [
    "### Looping Functions\n",
    "Let's see how useful functions can be by combining this lesson with the last one:\n"
   ]
  },
  {
   "cell_type": "code",
   "execution_count": null,
   "metadata": {
    "id": "OF0zdzMDpnKJ"
   },
   "outputs": [],
   "source": [
    "# A list of lists (or a nested list) of people's names, heights, and weights in meters:\n",
    "students = [\n",
    "    [\"Joe\", 1.82, 84.2],\n",
    "    [\"Susan\", 1.59, 56.3],\n",
    "    [\"Holly\", 1.66, 59.1],\n",
    "    [\"Meghan\", 1.61, 50.8],\n",
    "    [\"Mike\", 1.79, 81.3],\n",
    "    [\"Roger\", 1.85, 85.5],\n",
    "    [\"Jane\", 1.65, 54.9],\n",
    "    [\"Maria\", 1.61, 52.6],\n",
    "    [\"Douglas\", 1.91, 89.2],\n",
    "    [\"Sam\", 1.86, 86],\n",
    "    \n",
    "]"
   ]
  },
  {
   "cell_type": "code",
   "execution_count": null,
   "metadata": {
    "colab": {
     "base_uri": "https://localhost:8080/"
    },
    "executionInfo": {
     "elapsed": 382,
     "status": "ok",
     "timestamp": 1625826708441,
     "user": {
      "displayName": "Olouge Eya Ekolle",
      "photoUrl": "https://lh3.googleusercontent.com/a-/AOh14GghIM04CBnGeQVZdDssLGgt8D09zVia_eHWQ6R8GA=s64",
      "userId": "09951929497373237006"
     },
     "user_tz": -60
    },
    "id": "NOFhOHxy0jnl",
    "outputId": "039da812-3d29-4bd3-9065-21a3b68f23cc"
   },
   "outputs": [
    {
     "data": {
      "text/plain": [
       "[['Joe', 1.82, 84.2],\n",
       " ['Susan', 1.59, 56.3],\n",
       " ['Holly', 1.66, 59.1],\n",
       " ['Meghan', 1.61, 50.8],\n",
       " ['Mike', 1.79, 81.3],\n",
       " ['Roger', 1.85, 85.5],\n",
       " ['Jane', 1.65, 54.9],\n",
       " ['Maria', 1.61, 52.6],\n",
       " ['Douglas', 1.91, 89.2],\n",
       " ['Sam', 1.86, 86]]"
      ]
     },
     "execution_count": 3,
     "metadata": {
      "tags": []
     },
     "output_type": "execute_result"
    }
   ],
   "source": [
    "students"
   ]
  },
  {
   "cell_type": "code",
   "execution_count": null,
   "metadata": {
    "colab": {
     "base_uri": "https://localhost:8080/"
    },
    "executionInfo": {
     "elapsed": 539,
     "status": "ok",
     "timestamp": 1625826728068,
     "user": {
      "displayName": "Olouge Eya Ekolle",
      "photoUrl": "https://lh3.googleusercontent.com/a-/AOh14GghIM04CBnGeQVZdDssLGgt8D09zVia_eHWQ6R8GA=s64",
      "userId": "09951929497373237006"
     },
     "user_tz": -60
    },
    "id": "y8QIooxr0m45",
    "outputId": "ca4132a7-6439-4546-9e4b-266272824ac4"
   },
   "outputs": [
    {
     "data": {
      "text/plain": [
       "['Joe', 1.82, 84.2]"
      ]
     },
     "execution_count": 4,
     "metadata": {
      "tags": []
     },
     "output_type": "execute_result"
    }
   ],
   "source": [
    "students[0]"
   ]
  },
  {
   "cell_type": "code",
   "execution_count": null,
   "metadata": {
    "id": "4Y_ANQf70ywP"
   },
   "outputs": [],
   "source": [
    "x = students[0]"
   ]
  },
  {
   "cell_type": "code",
   "execution_count": null,
   "metadata": {
    "colab": {
     "base_uri": "https://localhost:8080/"
    },
    "executionInfo": {
     "elapsed": 7,
     "status": "ok",
     "timestamp": 1625826787513,
     "user": {
      "displayName": "Olouge Eya Ekolle",
      "photoUrl": "https://lh3.googleusercontent.com/a-/AOh14GghIM04CBnGeQVZdDssLGgt8D09zVia_eHWQ6R8GA=s64",
      "userId": "09951929497373237006"
     },
     "user_tz": -60
    },
    "id": "PJrmCcO-0_BR",
    "outputId": "fffe1014-53a2-40fb-ea87-8b86ab8cccf6"
   },
   "outputs": [
    {
     "data": {
      "text/plain": [
       "['Joe', 1.82, 84.2]"
      ]
     },
     "execution_count": 9,
     "metadata": {
      "tags": []
     },
     "output_type": "execute_result"
    }
   ],
   "source": [
    "x"
   ]
  },
  {
   "cell_type": "code",
   "execution_count": null,
   "metadata": {
    "colab": {
     "base_uri": "https://localhost:8080/",
     "height": 35
    },
    "executionInfo": {
     "elapsed": 377,
     "status": "ok",
     "timestamp": 1625826799372,
     "user": {
      "displayName": "Olouge Eya Ekolle",
      "photoUrl": "https://lh3.googleusercontent.com/a-/AOh14GghIM04CBnGeQVZdDssLGgt8D09zVia_eHWQ6R8GA=s64",
      "userId": "09951929497373237006"
     },
     "user_tz": -60
    },
    "id": "x7AO-wZ81BQG",
    "outputId": "c5eef30e-acad-463f-8c47-bac682e858bf"
   },
   "outputs": [
    {
     "data": {
      "application/vnd.google.colaboratory.intrinsic+json": {
       "type": "string"
      },
      "text/plain": [
       "'Joe'"
      ]
     },
     "execution_count": 10,
     "metadata": {
      "tags": []
     },
     "output_type": "execute_result"
    }
   ],
   "source": [
    "x[0]"
   ]
  },
  {
   "cell_type": "code",
   "execution_count": null,
   "metadata": {
    "colab": {
     "base_uri": "https://localhost:8080/"
    },
    "executionInfo": {
     "elapsed": 370,
     "status": "ok",
     "timestamp": 1625826806609,
     "user": {
      "displayName": "Olouge Eya Ekolle",
      "photoUrl": "https://lh3.googleusercontent.com/a-/AOh14GghIM04CBnGeQVZdDssLGgt8D09zVia_eHWQ6R8GA=s64",
      "userId": "09951929497373237006"
     },
     "user_tz": -60
    },
    "id": "bk7aNCp81Dkh",
    "outputId": "6197f903-c893-47c7-d5d1-006d3294e4af"
   },
   "outputs": [
    {
     "data": {
      "text/plain": [
       "1.82"
      ]
     },
     "execution_count": 11,
     "metadata": {
      "tags": []
     },
     "output_type": "execute_result"
    }
   ],
   "source": [
    "x[1]"
   ]
  },
  {
   "cell_type": "code",
   "execution_count": null,
   "metadata": {
    "id": "U20DEmbRpqnt"
   },
   "outputs": [],
   "source": [
    "# Now let's write a function that will return each person's BMI and assign them\n",
    "# into a new list called \"BMIs\".\n",
    "\n",
    "def multiple_bmi(list):\n",
    "  '''\n",
    "  Function to calculate individual BMIs\n",
    "  Parameters: a nested list of names, heights, and weights\n",
    "  Returns: a list of names and their BMI\n",
    "  '''\n",
    "  bmis = [] \n",
    "  #empty list that we'll add things to later\n",
    "  \n",
    "  for x in list: \n",
    "    # for loop specifying each row in our list of people\n",
    "    \n",
    "    y = x[2]/x[1]**2\n",
    "    \n",
    "    z = [ x[0], y ]\n",
    "    \n",
    "    print(z)\n",
    "\n",
    "    bmis.append(z)\n",
    "    # adds the name and BMI result to our empty list using indexing\n",
    "    # done in 2 steps because append() only takes 1 argument at a time\n",
    "    \n",
    "  #return bmis\n",
    "  # returns our list, now filled with names and BMIs"
   ]
  },
  {
   "cell_type": "code",
   "execution_count": null,
   "metadata": {
    "colab": {
     "base_uri": "https://localhost:8080/"
    },
    "executionInfo": {
     "elapsed": 7,
     "status": "ok",
     "timestamp": 1625827140843,
     "user": {
      "displayName": "Olouge Eya Ekolle",
      "photoUrl": "https://lh3.googleusercontent.com/a-/AOh14GghIM04CBnGeQVZdDssLGgt8D09zVia_eHWQ6R8GA=s64",
      "userId": "09951929497373237006"
     },
     "user_tz": -60
    },
    "id": "ox3MgavcpvG5",
    "outputId": "5949b0db-7086-4f77-8ffe-9c121d950897"
   },
   "outputs": [
    {
     "name": "stdout",
     "output_type": "stream",
     "text": [
      "['Joe', 25.4196353097452]\n",
      "['Susan', 22.26968869902298]\n",
      "['Holly', 21.447234722020614]\n",
      "['Meghan', 19.59800933605956]\n",
      "['Mike', 25.373739895758558]\n",
      "['Roger', 24.981738495252007]\n",
      "['Jane', 20.16528925619835]\n",
      "['Maria', 20.292426989699468]\n",
      "['Douglas', 24.45108412598339]\n",
      "['Sam', 24.858365128916635]\n"
     ]
    }
   ],
   "source": [
    "multiple_bmi(students)"
   ]
  },
  {
   "cell_type": "code",
   "execution_count": null,
   "metadata": {
    "id": "AJyCt35Cpzj6"
   },
   "outputs": [],
   "source": [
    "BMIs = multiple_bmi(students)"
   ]
  },
  {
   "cell_type": "markdown",
   "metadata": {
    "id": "J7lJUHDwqAj7"
   },
   "source": [
    "## Packages: need to do *x*? There's a *package* for that!\n",
    "\n",
    "### What is a package?\n",
    "Packages are one of Python's super-powers. Other people have written a bunch of code to handle just about any task. Need faster and more accurate calculations? There's a package for that. Need to organize your lists of lists into tables and run operations on them? There's a package for that. Need to extract public information from a bunch of websites? You guessed it, there's a package for that too.\n",
    "\n",
    "Python packages are collections of scripts and functions designed to tackle specific problems. Packages are sometimes also referred to as libraries for that reason. Several of these are *designed* for data science and machine learning.\n"
   ]
  },
  {
   "cell_type": "markdown",
   "metadata": {
    "id": "uHBpdZ64qF1Q"
   },
   "source": [
    "### Meet your first package: Numpy \n",
    "Numpy is a library for scientific computing. It has powerful data structures for doing all kinds of mathematical and scientific computing as efficiently as possible. One of its biggest benefits is that it is written to perform calculations *much* faster than regular old \"out-of-the-box\" Python. It also has a special object called an **array** also sometimes call an **ndarray** or just \"numpy array\" that works much like a list but comes with a whole bunch additional helper methods.\n",
    "\n",
    "Let's see how it's imported:"
   ]
  },
  {
   "cell_type": "code",
   "execution_count": null,
   "metadata": {
    "id": "0emF5gUaqJ3u"
   },
   "outputs": [],
   "source": [
    "import numpy\n",
    "\n",
    "numpy.array([[\"Joe\", 1.82, 84.2],\n",
    "    [\"Susan\", 1.59, 56.3],\n",
    "    [\"Holly\", 1.66, 59.1],\n",
    "    [\"Meghan\", 1.61, 50.8],\n",
    "    [\"Mike\", 1.79, 81.3],\n",
    "    [\"Roger\", 1.85, 85.5],\n",
    "    [\"Jane\", 1.65, 54.9],\n",
    "    [\"Maria\", 1.61, 52.6],\n",
    "    [\"Douglas\", 1.91, 89.2],\n",
    "    [\"Sam\", 1.86, 86]])"
   ]
  },
  {
   "cell_type": "code",
   "execution_count": null,
   "metadata": {
    "id": "0U9OkHJVqMrz"
   },
   "outputs": [],
   "source": [
    "import numpy as np\n",
    "\n",
    "np.array([[\"Joe\", 1.82, 84.2],\n",
    "    [\"Susan\", 1.59, 56.3],\n",
    "    [\"Holly\", 1.66, 59.1],\n",
    "    [\"Meghan\", 1.61, 50.8],\n",
    "    [\"Mike\", 1.79, 81.3],\n",
    "    [\"Roger\", 1.85, 85.5],\n",
    "    [\"Jane\", 1.65, 54.9],\n",
    "    [\"Maria\", 1.61, 52.6],\n",
    "    [\"Douglas\", 1.91, 89.2],\n",
    "    [\"Sam\", 1.86, 86]])"
   ]
  },
  {
   "cell_type": "markdown",
   "metadata": {
    "id": "z4Aq-FC_qRQD"
   },
   "source": [
    "What if we only wanted a specifc module from Numpy?\n",
    "\n",
    "Usually we'd import the entire library, but in certain cases that may seem like overkill. In those cases, Python allows you to select specific modules from specific libraries like this:"
   ]
  },
  {
   "cell_type": "code",
   "execution_count": null,
   "metadata": {
    "id": "qs-jEulCqSwM"
   },
   "outputs": [],
   "source": [
    "from numpy import array\n",
    "\n",
    "array([[\"Joe\", 1.82, 84.2],\n",
    "    [\"Susan\", 1.59, 56.3],\n",
    "    [\"Holly\", 1.66, 59.1],\n",
    "    [\"Meghan\", 1.61, 50.8],\n",
    "    [\"Mike\", 1.79, 81.3],\n",
    "    [\"Roger\", 1.85, 85.5],\n",
    "    [\"Jane\", 1.65, 54.9],\n",
    "    [\"Maria\", 1.61, 52.6],\n",
    "    [\"Douglas\", 1.91, 89.2],\n",
    "    [\"Sam\", 1.86, 86]])"
   ]
  },
  {
   "cell_type": "markdown",
   "metadata": {
    "id": "wDeQvkvUqRa-"
   },
   "source": [
    "### Let's cut you loose (finally!). Time to practice all of this in your assignment! ***Assignment for Lessons_3***"
   ]
  },
  {
   "cell_type": "code",
   "execution_count": null,
   "metadata": {
    "id": "OUPNGCTmo7D4"
   },
   "outputs": [],
   "source": []
  },
  {
   "cell_type": "markdown",
   "metadata": {
    "id": "zInVB0R8Ti9s"
   },
   "source": [
    "# Python If Statements"
   ]
  },
  {
   "cell_type": "markdown",
   "metadata": {
    "id": "hyo1t3FaTxVi"
   },
   "source": [
    "## Run code only if certain conditions are met\n",
    "\n",
    "An if statement is a piece of code syntax that checks a condition and if that condition is `True` then we enter into the if statement and execute the code inside of it, if the condition evaluates to `False` then the block of code gets skipped:"
   ]
  },
  {
   "cell_type": "code",
   "execution_count": null,
   "metadata": {
    "id": "V7ImuTHdT35i"
   },
   "outputs": [],
   "source": [
    "if 4 > 5:\n",
    "  print(\"Four is greater than five\")"
   ]
  },
  {
   "cell_type": "code",
   "execution_count": null,
   "metadata": {
    "id": "x-9ofuzST4nJ"
   },
   "outputs": [],
   "source": [
    "if 5 > 4:\n",
    "  print(\"Five is greater than four.\")"
   ]
  },
  {
   "cell_type": "markdown",
   "metadata": {
    "id": "m9UUz_raT9-7"
   },
   "source": [
    "As you can see with the two if statements written above that the first condition was not true so the print statement inside was never executed, but in the second if statement the condition `5 > 4` was true so the if statement was executed. \n",
    "\n",
    "There are lots of ways that we can write conditional statements that will evaluate to something that is true or false, for starters we'll just look at a gorup of symbols called \"comparison operators\" that we can use. \n"
   ]
  },
  {
   "cell_type": "markdown",
   "metadata": {
    "id": "Y2H4mqtwT-6u"
   },
   "source": [
    "### Comparison Operators:\n",
    "\n",
    "`==` - The Equality Comparison Operator\n",
    "\n",
    "`!=` - The Inequality Comparison Operator\n",
    "\n",
    "`>` - The Greater-Than Operator\n",
    "\n",
    "`<` - The Less-Than Operator\n",
    "\n",
    "`>=` - The Greater-Than or Equal-To Operator\n",
    "\n",
    "`<=` - The Less-Than or Equal-To Operator\n",
    "\n",
    "All of these comparison operators can be used in conditional statements to control the flow of a program.\n"
   ]
  },
  {
   "cell_type": "code",
   "execution_count": null,
   "metadata": {
    "id": "MQ_4HlLfUKUs"
   },
   "outputs": [],
   "source": [
    "4 > 5"
   ]
  },
  {
   "cell_type": "code",
   "execution_count": null,
   "metadata": {
    "id": "7EK-WC--UMsE"
   },
   "outputs": [],
   "source": [
    "5 > 4"
   ]
  },
  {
   "cell_type": "code",
   "execution_count": null,
   "metadata": {
    "id": "RQal4MEqUPJv"
   },
   "outputs": [],
   "source": [
    "5 == 4"
   ]
  },
  {
   "cell_type": "code",
   "execution_count": null,
   "metadata": {
    "id": "nfaLReDEUPlH"
   },
   "outputs": [],
   "source": [
    "4 != 5"
   ]
  },
  {
   "cell_type": "markdown",
   "metadata": {
    "id": "1v4ABQfAUTnR"
   },
   "source": [
    "### The `else` Condition\n",
    "\n",
    "If statements will only run if the conditions stated evaluate to true, but what happens the rest of the time when the conditions aren't met? This is where If-Else statements come in. If-else statements provide a first statement that runs if the conditions are met and also a second block of code that runs if the conditions are not met as a kind of catch-all."
   ]
  },
  {
   "cell_type": "code",
   "execution_count": null,
   "metadata": {
    "id": "k-Bh42hBUXSZ"
   },
   "outputs": [],
   "source": [
    "money_in_wallet = 5.00\n",
    "movie_ticket_price = 8.99\n",
    "\n",
    "if money_in_wallet >= movie_ticket_price:\n",
    "  print(\"Go to the movies!\")\n",
    "else:\n",
    "  print(\"Stay home and watch Netflix.\")"
   ]
  },
  {
   "cell_type": "markdown",
   "metadata": {
    "id": "JQywATBNUZ5V"
   },
   "source": [
    "### The `elif` condition\n",
    "\n",
    "In addition to the `if` and `else` keywords we can use the `elif` keyword to include multiple if statements together in a group.\n"
   ]
  },
  {
   "cell_type": "code",
   "execution_count": null,
   "metadata": {
    "id": "6Fry0LamUeR1"
   },
   "outputs": [],
   "source": [
    "visitor = \"George\"\n",
    "\n",
    "if visitor == \"Bryce\":\n",
    "  print(\"Hi Bryce!\")\n",
    "elif visitor == \"Jacob\":\n",
    "  print(\"Hi Jacob!\")\n",
    "elif visitor == \"Mike\":\n",
    "  print(\"Hi Mike!\")\n",
    "elif visitor == \"Ben\":\n",
    "  print(\"Hi Ben!\")\n",
    "elif visitor == \"Young\":\n",
    "  print(\"Hi Young!\")\n",
    "else:\n",
    "  print(\"Pleased to meet you!\")"
   ]
  },
  {
   "cell_type": "markdown",
   "metadata": {
    "id": "yY0cRfVIUiiB"
   },
   "source": [
    "### The `in` keyword\n",
    "\n",
    "Sometimes checking for specific values one by one can get really tedious and repetitive (both things that we want to avoid). We can write a simpler if statement if we hold all of our friend's names in a list and then use the `in` keyword to check if a certain name is in the list.\n",
    "\n",
    "Expressions using the `in` keyword will evaluate to `True` if an item is found in a list, but will evaluate to `False` if an item is not found in a list"
   ]
  },
  {
   "cell_type": "code",
   "execution_count": null,
   "metadata": {
    "id": "KZCc9YuAUhE4"
   },
   "outputs": [],
   "source": [
    "friends = [\"Bryce\", \"Jacob\", \"Mike\", \"Ben\", \"Young\"]\n",
    "\n",
    "visitor = \"Mike\"\n",
    "\n",
    "if visitor in friends:\n",
    "  print(\"Hi \" + visitor + \"!\")\n",
    "else:\n",
    "  print(\"Pleased to meet you!\")"
   ]
  },
  {
   "cell_type": "markdown",
   "metadata": {
    "id": "7YbC5R5-Uqfn"
   },
   "source": [
    "### Logical Operators\n",
    "\n",
    "In some cases we might want to include multiple conditions in our if statement and only have an if statement's block execute if both conditions are true or if either of the conditions are true. We can use the two following \"Logical Operators\" in these kinds of scenarios\n",
    "\n",
    "`and` - Evaluates to True if expressions to its left ***and*** to its right are true.\n",
    "\n",
    "`or` - Evalues to True if either expressions to its left ***or*** right are true.\n",
    "\n"
   ]
  },
  {
   "cell_type": "code",
   "execution_count": null,
   "metadata": {
    "id": "sZkWYN9SUs_j"
   },
   "outputs": [],
   "source": [
    "# You can fiddle with these parameters to see how the if statement below will react.\n",
    "wants_to_learn_data_science = True\n",
    "will_work_hard = True\n",
    "age = 20\n",
    "\n",
    "if age >= 18 and wants_to_learn_data_science and will_work_hard:\n",
    "  print(\"Go to OSTEMB School!\")\n",
    "elif wants_to_learn_data_science or will_work_hard or age >= 18:\n",
    "  print(\"Your future is bright!\")\n",
    "else:\n",
    "  print(\"Find something that's a good fit for you.\")"
   ]
  },
  {
   "cell_type": "markdown",
   "metadata": {
    "id": "UGul-nDXnHPk"
   },
   "source": [
    "## Conditionals and logic\n",
    "\n",
    "We'll often want the computer only to take an action under certain circumstances. For example, we might want a game to print the message 'High score!', but only if the player's score is higher than the previous high score. We can write this as a formal logical statement: _if_ the player's score is higher than the previous high score _then_ print 'High score!'.\n",
    "\n",
    "The syntax for expressing this logic in Python is very similar. Let's define a function that accepts the player's score and the previous high score as arguments. If the player's score is higher, then it will print 'High score!'. Finally, it will return the new high score (whichever one that is)."
   ]
  },
  {
   "cell_type": "code",
   "execution_count": null,
   "metadata": {
    "id": "_8lMovVRnHPk"
   },
   "outputs": [],
   "source": [
    "def test_high_score(player_score, high_score):\n",
    "    if player_score > high_score:\n",
    "        print('High score!')\n",
    "        high_score = player_score\n",
    "\n",
    "    return high_score"
   ]
  },
  {
   "cell_type": "code",
   "execution_count": null,
   "metadata": {
    "id": "5d8LfKhtnHPl"
   },
   "outputs": [],
   "source": [
    "print(test_high_score(83, 98))"
   ]
  },
  {
   "cell_type": "code",
   "execution_count": null,
   "metadata": {
    "id": "jgmd_F4AnHPl"
   },
   "outputs": [],
   "source": [
    "print(test_high_score(95, 93))"
   ]
  },
  {
   "cell_type": "markdown",
   "metadata": {
    "id": "V8rqkH88nHPl"
   },
   "source": [
    "With `if` statements we use a similar syntax as we used for organizing functions. With functions we had a `def` statement ending with `:`, and an indented body. Similarly for a conditional, we have an `if` statement ending with `:`, and an indented body.\n",
    "\n",
    "Conditional statements are used to control program flow. We can visualize our example, `test_high_score`, in a decision tree.\n",
    "\n",
    "![simple_logic_flowchart](images/high_score_flowchart.png)\n",
    "\n",
    "We can nest `if` statements to make more complicated trees."
   ]
  },
  {
   "cell_type": "code",
   "execution_count": null,
   "metadata": {
    "id": "1IOQBctnnHPl"
   },
   "outputs": [],
   "source": [
    "def nested_example(x):\n",
    "    if x < 50:\n",
    "        if x % 2 == 0:\n",
    "            return 'branch a'\n",
    "        else:\n",
    "            return 'branch b'\n",
    "    else:\n",
    "        return 'branch c'\n",
    "\n",
    "print(nested_example(42))\n",
    "print(nested_example(51))\n",
    "print(nested_example(37))"
   ]
  },
  {
   "cell_type": "markdown",
   "metadata": {
    "id": "OLMg0c9VnHPl"
   },
   "source": [
    "In this example, we have an `if` statement nested under another `if` statement. As we change the input, we end up on different branches of the tree.\n",
    "\n",
    "![nested_logic_flowchart](images/nested_logic_flowchart.png)\n",
    "\n",
    "The statement that follows the `if` is called the **condition**. The condition can be either true or false. If the condition is true, then we execute the statements under the `if`. If the condition is false, then we execute the statements under the `else` (or if there is no `else`, then we do nothing).\n",
    "\n",
    "Conditions themselves are instructions that Python can interpret."
   ]
  },
  {
   "cell_type": "code",
   "execution_count": null,
   "metadata": {
    "id": "23EG57LjnHPm"
   },
   "outputs": [],
   "source": [
    "print(50 > 10)\n",
    "print(2 + 2 == 4)\n",
    "print(-3 > 2)"
   ]
  },
  {
   "cell_type": "markdown",
   "metadata": {
    "id": "jZ_nOsP0nHPm"
   },
   "source": [
    "Conditions are evaluated as booleans, which are `True` or `False`. We can combine conditions by asking of condition A _and_ condition B are true. We could also ask if condition A _or_ condition B are true. Let's consider whether such statements are true overall based on the possible values of condition A and condition B.\n",
    "\n",
    "|Condition A|Condition B|Condition A and Condition B|Condition A or Condition B|\n",
    "|:---------:|:---------:|:-------------------------:|:------------------------:|\n",
    "|True|True|True|True|\n",
    "|True|False|False|True|\n",
    "|False|True|False|True|\n",
    "|False|False|False|False|"
   ]
  },
  {
   "cell_type": "code",
   "execution_count": null,
   "metadata": {
    "id": "OylyQzuRnHPm"
   },
   "outputs": [],
   "source": [
    "print(True and True)\n",
    "print(True and False)\n",
    "print(False and True)\n",
    "print(False and False)"
   ]
  },
  {
   "cell_type": "code",
   "execution_count": null,
   "metadata": {
    "id": "OAdflKFPnHPn"
   },
   "outputs": [],
   "source": [
    "print(True or True)\n",
    "print(True or False)\n",
    "print(False or True)\n",
    "print(False or False)"
   ]
  },
  {
   "cell_type": "code",
   "execution_count": null,
   "metadata": {
    "id": "GHzGC_FhnHPn"
   },
   "outputs": [],
   "source": [
    "x = 5\n",
    "y = 3\n",
    "\n",
    "print(x > 4 and y > 2)\n",
    "print(x > 7 and y > 2)\n",
    "print(x > 7 or y > 2)"
   ]
  },
  {
   "cell_type": "markdown",
   "metadata": {
    "id": "JAexMuClnHPn"
   },
   "source": [
    "The keywords `or` and `and` are called **logical operations** (in the same sense that we call `+`, `-`, `*`, etc. arithmetic operations). The last logical operation is `not`: `not True` is `False`, `not False` is `True`."
   ]
  },
  {
   "cell_type": "code",
   "execution_count": null,
   "metadata": {
    "id": "-zKU_qkhnHPn"
   },
   "outputs": [],
   "source": [
    "print(not True)\n",
    "print(not False)"
   ]
  },
  {
   "cell_type": "code",
   "execution_count": null,
   "metadata": {
    "id": "Js018ybEnHPn"
   },
   "outputs": [],
   "source": [
    "x = 10\n",
    "y = 8\n",
    "\n",
    "print(x > 7 or y < 7)\n",
    "print(not x > 7 or y < 7)\n",
    "print(not x > 7 or not y < 7)\n",
    "print(not (x > 7 or y < 7))"
   ]
  },
  {
   "cell_type": "markdown",
   "metadata": {
    "id": "8p68XGjNnHPo"
   },
   "source": [
    "### Exercises\n",
    "\n",
    "1. Write a function `compare` which takes in a number and returns True if it is greater than 10 but less than 20 or it is less than -100.\n",
    "2. In the code above we have used the `%` operator.  What does this do?"
   ]
  },
  {
   "cell_type": "markdown",
   "metadata": {
    "id": "7p1msebSnHPo"
   },
   "source": [
    "Ex 1. Write a function which takes in a number and returns True if it is greater than 10 but less than 20 or it is less than -100."
   ]
  },
  {
   "cell_type": "code",
   "execution_count": null,
   "metadata": {
    "id": "TaY9fANunHPo"
   },
   "outputs": [],
   "source": [
    "#TODO"
   ]
  },
  {
   "cell_type": "code",
   "execution_count": null,
   "metadata": {
    "id": "vtKlwJGfnHPp"
   },
   "outputs": [],
   "source": [
    "# Do not modify this cell. It is used to test if your `compare` function is working properly. \n",
    "# If you compare function is working this cell should not throw and error\n",
    "\n",
    "assert(compare(15)==True)\n",
    "assert(compare(-200)==True)\n",
    "assert(compare(5)==False)"
   ]
  },
  {
   "cell_type": "markdown",
   "metadata": {
    "id": "KCdtMuiknHPq"
   },
   "source": [
    "Ex 2. In the code above we have used the `%` operator.  What does this do?"
   ]
  },
  {
   "cell_type": "markdown",
   "metadata": {
    "id": "rJxpko3nnHPq"
   },
   "source": [
    "*Answer:*\n"
   ]
  },
  {
   "cell_type": "markdown",
   "metadata": {
    "id": "RyqUaUEmnHPq"
   },
   "source": [
    "## Iteration\n",
    "\n",
    "Conditionals are very useful because they allow our programs to make decisions based on some information. These decisions control the flow of the program (i.e. which statements get executed). We have one other major tool for controlling  program flow, which is repetition. In programming, we will use repetitive loops to execute the same code many times. This is called **iteration**. The most basic kind of iteration is the `while` loop. A `while` loop will keep executing so long as the condition after the `while` is `True`."
   ]
  },
  {
   "cell_type": "markdown",
   "metadata": {
    "id": "Hru08wDUV5VU"
   },
   "source": [
    "## Running blocks of code repeatedly (iteration)\n",
    "\n",
    "Loops in Python provide a way for us to run the same block of code over and over again. This repetition is called ***iteration***. There are many ways to iterate in Python, but we're going to focus on the most popular: For Loops.\n",
    "\n",
    "For Loops are a type of \"definitive\" iteration. This just means that we have to specify beforehand how many times we want our block of code to run."
   ]
  },
  {
   "cell_type": "code",
   "execution_count": null,
   "metadata": {
    "id": "Ccdya9zknHPr"
   },
   "outputs": [],
   "source": [
    "x = 0\n",
    "while x < 5:\n",
    "    print(x)\n",
    "    x = x + 1"
   ]
  },
  {
   "cell_type": "markdown",
   "metadata": {
    "id": "a35jLm6bnHPs"
   },
   "source": [
    "We will often use iteration to perform a task a certain number of times, but we might also use it to carry out a process to a certain stage of completion.\n",
    "\n",
    "As an example of these different cases, we'll consider the Fibonacci sequence. The Fibonacci sequence is a sequence of numbers where the next number in the sequence is given by the sum of the previous two numbers. The first two numbers are given as 0 and 1. So the sequence begins 0, 1, 1, 2, 3, 5, 8...\n",
    "\n",
    "The Fibonacci sequence goes on infinitely, so we can only ever compute part of it. Below we define two functions to compute part of the Fibonacci sequence; the first function computes the first `n` terms, while the second function computes all the terms less than an upper limit, `x`."
   ]
  },
  {
   "cell_type": "code",
   "execution_count": null,
   "metadata": {
    "id": "ReHERdtPnHPs"
   },
   "outputs": [],
   "source": [
    "def first_n_fibonacci(n):\n",
    "    prev_num = 0\n",
    "    curr_num = 1\n",
    "    count = 2\n",
    "\n",
    "    print(prev_num)\n",
    "    print(curr_num)\n",
    "\n",
    "    while count <= n:\n",
    "        next_num = curr_num + prev_num\n",
    "        print(next_num)\n",
    "        prev_num = curr_num\n",
    "        curr_num = next_num\n",
    "        count += 1\n",
    "\n",
    "def below_x_fibonacci(x):\n",
    "    prev_num = 0\n",
    "    curr_num = 1\n",
    "\n",
    "    if curr_num < x:\n",
    "        print(prev_num)\n",
    "        print(curr_num)\n",
    "    elif prev_num < x:\n",
    "        print(prev_num)\n",
    "    \n",
    "    while curr_num + prev_num < x:\n",
    "        next_num = curr_num + prev_num\n",
    "        print(next_num)\n",
    "        prev_num = curr_num\n",
    "        curr_num = next_num"
   ]
  },
  {
   "cell_type": "code",
   "execution_count": null,
   "metadata": {
    "id": "nnRvyMXjnHPs"
   },
   "outputs": [],
   "source": [
    "m = 7\n",
    "print('First %d Fibonacci numbers' % m)\n",
    "first_n_fibonacci(m)"
   ]
  },
  {
   "cell_type": "code",
   "execution_count": null,
   "metadata": {
    "id": "CDWeAbRFnHPs"
   },
   "outputs": [],
   "source": [
    "print()\n",
    "\n",
    "y = 40\n",
    "print('Fibonacci numbers below %d' % y)\n",
    "below_x_fibonacci(y)        "
   ]
  },
  {
   "cell_type": "markdown",
   "metadata": {
    "id": "oB2EA2zZnHPt"
   },
   "source": [
    "Sometimes we will want our program to take a repeated action, but we won't know how many repetitions we will have to do, or it might be difficult to know ahead of time when the program should stop. For example, we could write a program that prints out cooking instructions. We don't know in advance how many instructions there will be in the recipe (some meals take a long time to cook and have many steps, while others are short and simple to make). We also don't know what the last instruction might be, so it would be difficult to write a condition telling the program when to stop. How are we going to solve the problem? Let's look at an example.\n",
    "\n",
    "Instructions for making bread:  \n",
    "1) Dissolve salt in water  \n",
    "2) Mix yeast into water  \n",
    "3) Mix water with flour to form dough  \n",
    "4) Knead dough  \n",
    "5) Let dough rise  \n",
    "6) Shape dough  \n",
    "7) Bake  \n",
    "\n",
    "The recipe has an ordered `list` of instructions. In Python we can use a list of strings to represent the instructions."
   ]
  },
  {
   "cell_type": "code",
   "execution_count": null,
   "metadata": {
    "id": "awpV9_htnHPt"
   },
   "outputs": [],
   "source": [
    "bread_recipe = ['Dissolve salt in water', 'Mix yeast into water', 'Mix water with flour to form dough', \n",
    "                'Knead dough', 'Let dough rise', 'Shape dough', 'Bake']"
   ]
  },
  {
   "cell_type": "markdown",
   "metadata": {
    "id": "3xCaN8CQnHPt"
   },
   "source": [
    "We will discuss lists more in the [Data Structures lecture](PY_DataStructures.ipynb) another time not in this series. We could store different recipes in different lists."
   ]
  },
  {
   "cell_type": "code",
   "execution_count": null,
   "metadata": {
    "id": "AEUNtzaanHPt"
   },
   "outputs": [],
   "source": [
    "soup_recipe = ['Dissolve salt in water', 'Boil  water', 'Add bones to boiling water', 'Chop onions', \n",
    "               'Chop garlic', 'Chop carrot', 'Chop celery', 'Remove bones from water', \n",
    "               'Add vegetables to boiling water', 'Add meat to boiling water']\n",
    "\n",
    "beans_recipe = ['Soak beans in water', 'Dissolve salt in water', 'Heat water and beans to boil', \n",
    "                'Drain beans when done cooking']"
   ]
  },
  {
   "cell_type": "markdown",
   "metadata": {
    "id": "XUS19VSAnHPt"
   },
   "source": [
    "Each of these lists has different instructions, and they are not all the same length. The beans recipe has four steps while the soup recipe has ten. It would be hard to write a `while` loop to print out each step. It is much easier to do it using a `for` loop.\n",
    "\n",
    "A `for` loop does an action for each item in a `list` (or more precisely, in an **iterable**)."
   ]
  },
  {
   "cell_type": "markdown",
   "metadata": {
    "id": "7uDVKu2RWDa9"
   },
   "source": [
    "### How do we tell a For Loop how many times to run?\n",
    "\n",
    "The way that we tell a For Loop how many times to run is by providing it an \"iterable.\" Iterables are a category of data structures that hold multiple items in them (this actually isn't 100% correct but is an OK way to think about it as you're getting started). A list is an iterable! \n",
    "\n",
    "If I provide a list to a For Loop, the loop will run once for each item in the list. \n"
   ]
  },
  {
   "cell_type": "code",
   "execution_count": null,
   "metadata": {
    "id": "WKZUfdlDWHWh"
   },
   "outputs": [],
   "source": [
    "for item in [1,2,3,4,5]:\n",
    "  print(\"Hello!\")"
   ]
  },
  {
   "cell_type": "code",
   "execution_count": null,
   "metadata": {
    "id": "DKtYf1rwWJ9G"
   },
   "outputs": [],
   "source": [
    "for value in [1,2,3,4,5]:\n",
    "  print(value)"
   ]
  },
  {
   "cell_type": "markdown",
   "metadata": {
    "id": "vcP1uh8IWRcJ"
   },
   "source": [
    "### For Loop Syntax"
   ]
  },
  {
   "cell_type": "markdown",
   "metadata": {
    "id": "haUfjw6dWUZF"
   },
   "source": [
    "Notice that I start a for loop off with the keyword `for` and then provide a variable whose value will change based on each iteration of the for loop. \n",
    "\n",
    "I use the keyword `in` to indicate that this variable will represent items from the following iterable, and then I provide an iterable. In the above examples I simply used a list. \n",
    "\n",
    "The declaration of any for loop ends with a colon `:`, this tells the Python interpreter that I'm done with that statement and that the code block that I want to repeat is coming next.\n",
    "\n",
    "When providing the block that I want to be repeated I have to indent each line in order to designate that the code block is within the for loop. If I want to write additional code after the for loop, then I just don't indent it."
   ]
  },
  {
   "cell_type": "code",
   "execution_count": null,
   "metadata": {
    "id": "6yOZg6EpWXZ8"
   },
   "outputs": [],
   "source": [
    "animal_list = ['cat', 'dog', 'fish', 'bird']\n",
    "\n",
    "for animal in animal_list:\n",
    "  # Indent to put things inside the For Loop\n",
    "  print('-------------------')\n",
    "  print(\"*****\", animal, \"*****\")\n",
    "  print('-------------------\\n')\n",
    "\n",
    "# Unindent to put code outside of the for loop\n",
    "print(\"Are some of my favorite animals.\")"
   ]
  },
  {
   "cell_type": "code",
   "execution_count": null,
   "metadata": {
    "id": "lWVnooc8nHPt"
   },
   "outputs": [],
   "source": [
    "def print_recipe(instructions):\n",
    "    for step in instructions:\n",
    "        print(step)"
   ]
  },
  {
   "cell_type": "code",
   "execution_count": null,
   "metadata": {
    "id": "wqWKoWxvnHPu"
   },
   "outputs": [],
   "source": [
    "print_recipe(soup_recipe)"
   ]
  },
  {
   "cell_type": "code",
   "execution_count": null,
   "metadata": {
    "id": "d1RoNxaOnHPu"
   },
   "outputs": [],
   "source": [
    "print_recipe(bread_recipe)"
   ]
  },
  {
   "cell_type": "code",
   "execution_count": null,
   "metadata": {
    "id": "BXVNVqU1nHPu"
   },
   "outputs": [],
   "source": [
    "print_recipe(beans_recipe)"
   ]
  },
  {
   "cell_type": "markdown",
   "metadata": {
    "id": "-O7jzah1nHPu"
   },
   "source": [
    "We can also use a `for` loop to repeat a task a certain number of times, like printing out the first `n` numbers in the Fibonacci sequence. Compare these two Fibonacci functions:"
   ]
  },
  {
   "cell_type": "code",
   "execution_count": null,
   "metadata": {
    "id": "8McGA-7jnHPu"
   },
   "outputs": [],
   "source": [
    "def first_n_fibonacci_while(n):\n",
    "    prev_num = 0\n",
    "    curr_num = 1\n",
    "    count = 2\n",
    "\n",
    "    print(prev_num)\n",
    "    print(curr_num)\n",
    "\n",
    "    while count <= n:\n",
    "        next_num = curr_num + prev_num\n",
    "        print(next_num)\n",
    "        prev_num = curr_num\n",
    "        curr_num = next_num\n",
    "        count += 1\n",
    "\n",
    "def first_n_fibonacci_for(n):\n",
    "    prev_num = 0\n",
    "    curr_num = 1\n",
    "\n",
    "    print(prev_num)\n",
    "    print(curr_num)\n",
    "\n",
    "    for count in range(2, n + 1):\n",
    "        next_num = curr_num + prev_num\n",
    "        print(next_num)\n",
    "        prev_num = curr_num\n",
    "        curr_num = next_num"
   ]
  },
  {
   "cell_type": "code",
   "execution_count": null,
   "metadata": {
    "id": "ZQZWoV0InHPv"
   },
   "outputs": [],
   "source": [
    "first_n_fibonacci_while(7)"
   ]
  },
  {
   "cell_type": "code",
   "execution_count": null,
   "metadata": {
    "id": "mTmQeLe6nHPv"
   },
   "outputs": [],
   "source": [
    "first_n_fibonacci_for(7)"
   ]
  },
  {
   "cell_type": "markdown",
   "metadata": {
    "id": "221oOUNpnHPv"
   },
   "source": [
    "### Exercises\n",
    "\n",
    "1. Compare `first_n_fibonacci_while` and `first_n_fibonacci_for`, which one is \"better\"?"
   ]
  },
  {
   "cell_type": "markdown",
   "metadata": {
    "id": "QOV7RvoonHPv"
   },
   "source": [
    "**Answer:**\n",
    "There is no much difference in terms of space and time complexity of the two loops since they are of O(n) complexity. However, the for-loop code offers a more shorter code making it more readable than the while-loop. In addition the for-loop makes use of the library function range() to iterate through values which offers better efficiency when handling iteration than while-loop."
   ]
  },
  {
   "cell_type": "markdown",
   "metadata": {
    "id": "RZ9OcIcPWg-d"
   },
   "source": [
    "### The range() Iterable\n",
    "\n",
    "What if I wanted a block of code to run 20 times, but I didn't have a list handy out to use as the iterable? Well, there's a really easy way to make iterables in python using the `range()` function.\n",
    "\n",
    "In order to make an iterable of a certain size simply pass in two arguments to the range function:\n",
    "\n",
    "1.   The number you want it to start at (inclusive).\n",
    "2.   The number you want it to end at (exclusive)."
   ]
  },
  {
   "cell_type": "code",
   "execution_count": null,
   "metadata": {
    "id": "4IZaut0pWjxA"
   },
   "outputs": [],
   "source": [
    "for item in range(1, 21):\n",
    "  print(item)"
   ]
  },
  {
   "cell_type": "markdown",
   "metadata": {
    "id": "TftZ-zRTWnS2"
   },
   "source": [
    "If I only pass one argument into the range function, then it will just start at 0 and count up to one less than that number.\n",
    "\n",
    "In this case it becomes kind of nice that the range function starts at 0 and that the second argument of the range function is exclusive, because if I want a loop to run 5 times then I can just pass in exactly then number 5 to the range function and use that as my iterable and I'll get a loop that runs 5 times."
   ]
  },
  {
   "cell_type": "code",
   "execution_count": null,
   "metadata": {
    "id": "-aAZRpIcWple"
   },
   "outputs": [],
   "source": [
    "for item in range(5):\n",
    "  print(item)"
   ]
  },
  {
   "cell_type": "code",
   "execution_count": null,
   "metadata": {
    "id": "hROMcPw2Wr86"
   },
   "outputs": [],
   "source": [
    "for item in range(5):\n",
    "  print('This code has run', item+1, 'times')"
   ]
  },
  {
   "cell_type": "markdown",
   "metadata": {
    "id": "XqT6MRxfWwIg"
   },
   "source": [
    "The range function is a great way to tell a for loop how many times to run when you don't have an iterable data structure handy to provide to the loop. "
   ]
  },
  {
   "cell_type": "markdown",
   "metadata": {
    "id": "NLxKbL5_Wyfd"
   },
   "source": [
    "### Manipulating Lists as we iterate over them\n",
    "\n",
    "One of the most powerful uses of For Loops is using them in combination with lists in order to run different code based on each individual value in a list. For example, I can write a for loop that squares each value in a list"
   ]
  },
  {
   "cell_type": "code",
   "execution_count": null,
   "metadata": {
    "id": "OznhRvfDW0uJ"
   },
   "outputs": [],
   "source": [
    "numbers_to_square = [1,2,3,4,5]\n",
    "\n",
    "for number in numbers_to_square:\n",
    "  print(number**2)\n"
   ]
  },
  {
   "cell_type": "markdown",
   "metadata": {
    "id": "0HJzIZioW4AE"
   },
   "source": [
    "I can create a new list that holds the squared values by creating an empty list and appending these new values to the empty list"
   ]
  },
  {
   "cell_type": "code",
   "execution_count": null,
   "metadata": {
    "id": "qs4sGvZeW6Rd"
   },
   "outputs": [],
   "source": [
    "numbers_to_square = [1,2,3,4]\n",
    "\n",
    "squared_numbers = []\n",
    "for number in numbers_to_square:\n",
    "  squared_numbers.append(number**2)\n",
    "\n",
    "print(numbers_to_square)\n",
    "print(squared_numbers)"
   ]
  },
  {
   "cell_type": "code",
   "execution_count": null,
   "metadata": {
    "id": "chr-k7ltXS2C"
   },
   "outputs": [],
   "source": []
  },
  {
   "cell_type": "markdown",
   "metadata": {
    "id": "jm1LuOulW83a"
   },
   "source": [
    "I can also keep track of the number of iterations that the for loop is on by using the `enumerate()` function. When I use the enumerate function I can add a second variable to the beginning of the for loop. The first variable will represent the specific iteration of the for loop, and the second variable will change to represent the each item in the list."
   ]
  },
  {
   "cell_type": "code",
   "execution_count": null,
   "metadata": {
    "id": "BmcWN-jtW_OX"
   },
   "outputs": [],
   "source": [
    "for i, number in enumerate(numbers_to_square):\n",
    "  print(\"index:\", i, \"-- item in original list:\", number, \"-- item in original list squared:\", number**2)"
   ]
  },
  {
   "cell_type": "markdown",
   "metadata": {
    "id": "8ap-5PTGXDKO"
   },
   "source": [
    "Now not only can I use this `i` variable in combination with the `enumerate()` function to track the iteration that my loop is on, I can use it to overwrite values in the original list as well."
   ]
  },
  {
   "cell_type": "code",
   "execution_count": null,
   "metadata": {
    "id": "0v2azgJyXFp-"
   },
   "outputs": [],
   "source": [
    "for i, number in enumerate(numbers_to_square):\n",
    "  numbers_to_square[i] = number**2\n",
    "\n",
    "print(numbers_to_square)"
   ]
  },
  {
   "cell_type": "markdown",
   "metadata": {
    "id": "KhRK1kDtXIeq"
   },
   "source": [
    "### Using For Loops to modify the list that we are looping (iterating) over"
   ]
  },
  {
   "cell_type": "markdown",
   "metadata": {
    "id": "s593GwUlXKvs"
   },
   "source": [
    "I can now use this \"index\" value not only to access items in the original list but to modify the previous list as I am looping over it. Lets write a loop that subtracts one from each item in the list that we are iterating over."
   ]
  },
  {
   "cell_type": "code",
   "execution_count": null,
   "metadata": {
    "id": "hPnk9Y_NXNEr"
   },
   "outputs": [],
   "source": [
    "my_list = [5,6,7,8,9,10]\n",
    "\n",
    "for i, num in enumerate(my_list):\n",
    "  my_list[i] = my_list[i]-1\n",
    "\n",
    "print(my_list)"
   ]
  },
  {
   "cell_type": "markdown",
   "metadata": {
    "id": "UopnSZZSXQjq"
   },
   "source": [
    "Please notice that we did not create a new list as we did this, but we modified the original list itself. Lets run it again."
   ]
  },
  {
   "cell_type": "code",
   "execution_count": null,
   "metadata": {
    "id": "XPz7OkiyXWNT"
   },
   "outputs": [],
   "source": [
    "for i, num in enumerate(my_list):\n",
    "  my_list[i] = my_list[i]-1\n",
    "\n",
    "print(my_list)"
   ]
  },
  {
   "cell_type": "markdown",
   "metadata": {
    "id": "txXQb8YNXYsY"
   },
   "source": [
    "and again"
   ]
  },
  {
   "cell_type": "code",
   "execution_count": null,
   "metadata": {
    "id": "jD5EB06GXZSQ"
   },
   "outputs": [],
   "source": [
    "for i, num in enumerate(my_list):\n",
    "  my_list[i] = my_list[i]-1\n",
    "\n",
    "print(my_list)"
   ]
  },
  {
   "cell_type": "code",
   "execution_count": null,
   "metadata": {
    "id": "GOx5AJsUXh8K"
   },
   "outputs": [],
   "source": [
    "# This is what we would have to do in order to replicate\n",
    "# by hand what our for loop above was doing in just 2 lines.\n",
    "\n",
    "# my_list[0] = my_list[0]-1\n",
    "# my_list[1] = my_list[1]-1\n",
    "# my_list[2] = my_list[2]-1\n",
    "# my_list[3] = my_list[3]-1\n",
    "# my_list[4] = my_list[4]-1\n",
    "# my_list[5] = my_list[5]-1\n",
    "\n",
    "# my_list"
   ]
  },
  {
   "cell_type": "markdown",
   "metadata": {
    "id": "kXtAz17GXkSk"
   },
   "source": [
    "Now we're beginning to see how combining lists and for loops can be very powerful for helping us to manipulate lots of pieces of information in a consistent way without having to repeat our code many times. "
   ]
  },
  {
   "cell_type": "markdown",
   "metadata": {
    "id": "6I5vGeW9Xmxb"
   },
   "source": [
    "### Looping over two-dimensional lists\n",
    "\n",
    "If we have lists inside of lists then we can loop through them by putting for loops inside of for loops. These are called \"nested\" for loops.\n",
    "\n",
    "Lets look at our two-dimensional list from the previous lesson and see if we can access the values inside of it in an orderly manner.\n"
   ]
  },
  {
   "cell_type": "code",
   "execution_count": null,
   "metadata": {
    "id": "Or94pzTHXsf-"
   },
   "outputs": [],
   "source": [
    "students = [           \n",
    "    [\"Popeye\", 24],  \n",
    "    [\"Tabatha\", 23], \n",
    "    [\"Jerry\", 25],\n",
    "    [\"Flynn\", 23],    \n",
    "    [\"Sally\", 40],\n",
    "    [\"Michael\", 46],\n",
    "    [\"Susie\", 19],\n",
    "    [\"Amanda\", 34]\n",
    "]           "
   ]
  },
  {
   "cell_type": "code",
   "execution_count": null,
   "metadata": {
    "id": "3cW2Ua5jXunk"
   },
   "outputs": [],
   "source": [
    "for student in students:\n",
    "  for value in student:\n",
    "    print(value)"
   ]
  },
  {
   "cell_type": "markdown",
   "metadata": {
    "id": "yga0E8s4XyXo"
   },
   "source": [
    "Lets say that the above list represents our database of student information. A new school year is starting and we want to increment the ages of all of the students by 1, how might we do this?"
   ]
  },
  {
   "cell_type": "code",
   "execution_count": null,
   "metadata": {
    "id": "t5fFs3E7X0rr"
   },
   "outputs": [],
   "source": [
    "for i, student in enumerate(students):\n",
    "  students[i][1] = students[i][1] + 1\n",
    "\n",
    "print(students)"
   ]
  },
  {
   "cell_type": "markdown",
   "metadata": {
    "id": "g5IEYnnkX3EX"
   },
   "source": [
    "What if we only wanted to print out the ages of the students?"
   ]
  },
  {
   "cell_type": "code",
   "execution_count": null,
   "metadata": {
    "id": "VAMTwERGX5U-"
   },
   "outputs": [],
   "source": [
    "for student in students:\n",
    "  print(student[1])"
   ]
  },
  {
   "cell_type": "markdown",
   "metadata": {
    "id": "Uj269pJXX7xm"
   },
   "source": [
    "What if we wanted to calculate the average age of students in the class?"
   ]
  },
  {
   "cell_type": "code",
   "execution_count": null,
   "metadata": {
    "id": "ZavjA8pyX99Z"
   },
   "outputs": [],
   "source": [
    "total_age = 0\n",
    "for student in students:\n",
    "  total_age = total_age + student[1]\n",
    "\n",
    "print(\"Average age of class:\", total_age/len(students))"
   ]
  },
  {
   "cell_type": "code",
   "execution_count": null,
   "metadata": {
    "id": "Jd_z49ABXqB1"
   },
   "outputs": [],
   "source": []
  },
  {
   "cell_type": "markdown",
   "metadata": {
    "id": "N4vrD8dAXhGG"
   },
   "source": []
  },
  {
   "cell_type": "markdown",
   "metadata": {
    "id": "tr5nfCO4nHPv"
   },
   "source": [
    "### Aside (Recursion)\n",
    "\n",
    "Another way to get something like iteration is called _recursion_ which is when we define a function in terms of itself.  Lets write the Fibonacci sequence recursively.  This will be slightly different in that it will only calculate the nth Fibonacci number."
   ]
  },
  {
   "cell_type": "code",
   "execution_count": null,
   "metadata": {
    "id": "On0DDxXWnHPw"
   },
   "outputs": [],
   "source": [
    "def fibonacci_recursive(n):\n",
    "    if n == 0:\n",
    "        return 0\n",
    "    elif n == 1:\n",
    "        return 1\n",
    "    else:\n",
    "        return fibonacci_recursive(n-1)  + fibonacci_recursive(n-2)"
   ]
  },
  {
   "cell_type": "code",
   "execution_count": null,
   "metadata": {
    "id": "FMtwOwd7nHPw"
   },
   "outputs": [],
   "source": [
    "fibonacci_recursive(7)"
   ]
  },
  {
   "cell_type": "markdown",
   "metadata": {
    "id": "lyMKDsCnnHPw"
   },
   "source": [
    "Here we make use of the fact that a Fibonacci number $F_n$ can be defined in terms of $F_{N-1}$ and $F_{N-2}$ with some base cases $F_0=0$ and $F_1=1$.  We will not be using recursion in this course, but it is an interesting and useful programming construct."
   ]
  },
  {
   "cell_type": "markdown",
   "metadata": {
    "id": "JrpX4iVjVBEg"
   },
   "source": [
    "## Loops + If Statements "
   ]
  },
  {
   "cell_type": "code",
   "execution_count": null,
   "metadata": {
    "id": "SQ7ZITUrVEBy"
   },
   "outputs": [],
   "source": [
    "### The FizzBuzz Question\n",
    "\n",
    "The FizzBuzz Question is a well-known code challenge that is meant to test if a person has a beginning grasp on things like if statements, and for loops. It instructions usually go something like this:\n",
    "\n",
    "- Print out the numbers 1-100, however...\n",
    "- If a number is divisible by 3, print out the string \"Fizz\" instead of the number.\n",
    "- If a number is divisible by 5 print out the string \"Buzz\" instead of the number\n",
    "- If a number is divisible by both 3 and 5 print out the string \"FizzBuzz\" instead of the number\n"
   ]
  },
  {
   "cell_type": "code",
   "execution_count": null,
   "metadata": {
    "id": "-Qlxeu5_VJlN"
   },
   "outputs": [],
   "source": [
    "for number in range(1, 101):  \n",
    "  # if number is divisible by 3, prin out \"Fizz\"\n",
    "  if number % 5 == 0 and number % 3 == 0:\n",
    "    print(\"FizzBuzz\")\n",
    "  elif number % 3 == 0:\n",
    "    print(\"Fizz\")\n",
    "  elif number % 5 == 0:\n",
    "    print(\"Buzz\")\n",
    "  else:\n",
    "    print(number)"
   ]
  },
  {
   "cell_type": "markdown",
   "metadata": {
    "id": "DaiElUu3nHPw"
   },
   "source": [
    "## Putting it all together\n",
    "\n",
    "We've learned two of the major components of programs: **variables** and **functions**. We've also learned two of the major components of program control: **conditionals** (`if` statements) and **iteration** (`for` and `while` loops). We can use these ideas and tools to write code to perform complex tasks. Let's look at an example, involving all of these ideas put together.\n",
    "\n",
    "Below we write a function that prints out all the prime numbers up to some number `n`. We will use iteration to check if each number is prime. We will use a conditional to print out numbers only if they are prime. We will also break up the task into small pieces so our code is easy to read and understand. This means we will use (or _call_) helper functions inside of our solution."
   ]
  },
  {
   "cell_type": "code",
   "execution_count": null,
   "metadata": {
    "id": "LLlR9T_1nHPw"
   },
   "outputs": [],
   "source": [
    "def is_prime(number):\n",
    "    if number < 2:\n",
    "        return False\n",
    "    \n",
    "    for factor in range(2, number):\n",
    "        if number % factor == 0:\n",
    "            return False\n",
    "\n",
    "    return True\n",
    "\n",
    "def print_primes(n):\n",
    "    for number in range(1, n):\n",
    "        if is_prime(number):\n",
    "            print('%d is prime' % number)"
   ]
  },
  {
   "cell_type": "code",
   "execution_count": null,
   "metadata": {
    "id": "gtQWhHz2nHPx"
   },
   "outputs": [],
   "source": [
    "print_primes(42)"
   ]
  },
  {
   "cell_type": "markdown",
   "metadata": {
    "id": "8zXgAGxZnHPx"
   },
   "source": [
    "The other application of functions might be to do something many times (not necessarily in an iteration).  One specific and natural way to understand this is to have a list elements and apply a function to each element of the `list`.  Lets take a list of the first 20 numbers and find which ones are prime.  We will do this and save the result in a `list`. Lists have an `append` method which allows us to add to the end of the list (we will see more about lists in a different lecture series not in this one)."
   ]
  },
  {
   "cell_type": "code",
   "execution_count": null,
   "metadata": {
    "id": "CJwIF-q4nHPx"
   },
   "outputs": [],
   "source": [
    "list_of_numbers = [0, 1, 2, 3, 4, 5, 6, 7, 8, 9, 10, 11, 12, 13, 14, 15, 16, 17, 18, 19]\n",
    "prime_list = []\n",
    "for number in list_of_numbers:\n",
    "    if is_prime(number):\n",
    "        prime_list.append(number)\n",
    "prime_list"
   ]
  },
  {
   "cell_type": "markdown",
   "metadata": {
    "id": "lL_gSq8gnHPx"
   },
   "source": [
    "Python provides a nice construct to apply a function to every element of a list, called a `list comprehension`, here is an example of one:"
   ]
  },
  {
   "cell_type": "code",
   "execution_count": null,
   "metadata": {
    "id": "hIGvSWEUnHPy"
   },
   "outputs": [],
   "source": [
    "#[is_prime(number) for number in list_of_numbers]\n",
    "[number for number in list_of_numbers if is_prime(number)]"
   ]
  },
  {
   "cell_type": "markdown",
   "metadata": {
    "id": "fCgTFS8PnHPy"
   },
   "source": [
    "Note that this is a simple bit of code that is very understandable.  We don't need to care **how** the `is_prime` computation is occurring, only that its occurring for every element of `list_of_numbers`.  This means that we can more view our program at a high level without caring about the small details (which hopefully we have already designed well and tested)."
   ]
  },
  {
   "cell_type": "markdown",
   "metadata": {
    "id": "LBumy4jqnHPy"
   },
   "source": [
    "## More About Functions\n",
    "\n",
    "Notice that the `example_a` and `example_b` had no input, but other functions like `test_high_score` had multiple variables as input.  Remember that a function argument is just a placeholder for a name and will be bound to whatever is passed into the function.  For example:"
   ]
  },
  {
   "cell_type": "code",
   "execution_count": null,
   "metadata": {
    "id": "asaKC5YpnHPy"
   },
   "outputs": [],
   "source": [
    "def print_this(a):\n",
    "    print('inside print_this: ', a)\n",
    "\n",
    "a = 5\n",
    "print_this(2)\n",
    "print('a = ', a)"
   ]
  },
  {
   "cell_type": "markdown",
   "metadata": {
    "id": "PoXwfW_unHPy"
   },
   "source": [
    "Notice that even though `print_this` was printing the variable `a` inside the function and there was a variable `a` defined outside of the function, the `print` function inside `print_this` still printed what was passed in.  However, I can also "
   ]
  },
  {
   "cell_type": "code",
   "execution_count": null,
   "metadata": {
    "id": "u4E63axEnHPz"
   },
   "outputs": [],
   "source": [
    "def print_it():\n",
    "    print('inside print_it: ', a)\n",
    "    \n",
    "a = 5\n",
    "print_it()\n",
    "print('a = ', a)"
   ]
  },
  {
   "cell_type": "markdown",
   "metadata": {
    "id": "62CgplGVnHPz"
   },
   "source": [
    "Here there is no variable passed into the function so Python uses the variable from the outer scope.  Be careful with this second paradigm as it can be dangerous. The danger lies in the fact that the output of the function depends upon the overall state of the program (namely the value of `a`) as opposed to `print_this` which depends only on the input of the function.  Functions like `print_this` are much easier to reason about, test, and use, they should be preferred in many contexts.\n",
    "\n",
    "That said, there is a very powerful technique called `function closure` which we can make use of this ability.  Lets say we want a function which will raise a number to some exponent, but we don't know which exponent ahead of runtime.  We can define such a function like this."
   ]
  },
  {
   "cell_type": "code",
   "execution_count": null,
   "metadata": {
    "id": "UBr4bKkPnHPz"
   },
   "outputs": [],
   "source": [
    "def some_exponent(exponent):\n",
    "    def func(x):\n",
    "        return x**exponent\n",
    "    return func"
   ]
  },
  {
   "cell_type": "code",
   "execution_count": null,
   "metadata": {
    "id": "9LT45h11nHPz"
   },
   "outputs": [],
   "source": [
    "some_exponent(2)(2), some_exponent(3)(2)"
   ]
  },
  {
   "cell_type": "markdown",
   "metadata": {
    "id": "5B0ZPqvcnHPz"
   },
   "source": [
    "Now that we understand how normal arguments work, lets look at a few conveniences Python provides for making functions easier to create.  The first is default arguments.  Let's suppose we have a function which had a bunch of arguments, but most of them had some defaults, for example:"
   ]
  },
  {
   "cell_type": "code",
   "execution_count": null,
   "metadata": {
    "id": "ziMCIrQmnHPz"
   },
   "outputs": [],
   "source": [
    "def print_todo(watch_tv, read, eat, sleep):\n",
    "    print('I need to:')\n",
    "    if watch_tv:\n",
    "        print('  watch_tv')\n",
    "    if read:\n",
    "        print('  read')\n",
    "    if eat:\n",
    "        print('  eat')\n",
    "    if sleep:\n",
    "        print('  sleep')\n",
    "print_todo(True, True, True, True)"
   ]
  },
  {
   "cell_type": "markdown",
   "metadata": {
    "id": "HaVjzpjynHP0"
   },
   "source": [
    "I know that I almost always need to eat and sleep, so I can use a default argument for these instead.  This means I don't need to define the value of `eat` and `sleep` unless they are different than the default."
   ]
  },
  {
   "cell_type": "code",
   "execution_count": null,
   "metadata": {
    "id": "kzTe094_nHP0"
   },
   "outputs": [],
   "source": [
    "def print_todo_default(watch_tv, read, eat=True, sleep=True):\n",
    "    print('I need to:')\n",
    "    if watch_tv:\n",
    "        print('  watch_tv')\n",
    "    if read:\n",
    "        print('  read')\n",
    "    if eat:\n",
    "        print('  eat')\n",
    "    if sleep:\n",
    "        print('  sleep')\n",
    "print_todo_default(True, True)"
   ]
  },
  {
   "cell_type": "markdown",
   "metadata": {
    "id": "ixkzDwXgnHP0"
   },
   "source": [
    "These default arguments can allow us to create complex function with many inputs while also maintaining ease of use by setting some defaults. \n",
    "\n",
    "Another thing we might want to do is take a variable list of arguments, lets write a similar `todo` function as before, but this time we will allow it to pass in any number of arguments.  Here we will make use of the `*args` syntax.  This `*` tells python to gather the rest of the arguments into the tuple `args`."
   ]
  },
  {
   "cell_type": "code",
   "execution_count": null,
   "metadata": {
    "id": "kJL5MJymnHP0"
   },
   "outputs": [],
   "source": [
    "def print_todo_args(*args):\n",
    "    print('I need to:')\n",
    "    for arg in args:\n",
    "        print('  ' + arg)\n",
    "print_todo_args('watch_tv', 'read', 'eat', 'sleep')"
   ]
  },
  {
   "cell_type": "markdown",
   "metadata": {
    "id": "qBSygI9dnHP1"
   },
   "source": [
    "This sort of syntax can be very useful in large programs where abstract functions may all a variety of different functions with different arguments."
   ]
  },
  {
   "cell_type": "markdown",
   "metadata": {
    "id": "EyoqeJ4PnHP1"
   },
   "source": [
    "### Some topics we haven't discussed, but have used:\n",
    "- [String formatting](https://pyformat.info/)\n",
    "- Exceptions (e.g. `TypeError`)"
   ]
  },
  {
   "cell_type": "markdown",
   "metadata": {
    "id": "nygsQnSJVP1a"
   },
   "source": [
    "### Modulus Operator: `%`\n",
    "\n",
    "\n"
   ]
  },
  {
   "cell_type": "code",
   "execution_count": null,
   "metadata": {
    "id": "xHBlbkEnVSLn"
   },
   "outputs": [],
   "source": [
    "5 % 3"
   ]
  },
  {
   "cell_type": "code",
   "execution_count": null,
   "metadata": {
    "id": "AIEDSQsmVS33"
   },
   "outputs": [],
   "source": [
    "5 % 2"
   ]
  },
  {
   "cell_type": "code",
   "execution_count": null,
   "metadata": {
    "id": "DXqkncYqVU5I"
   },
   "outputs": [],
   "source": [
    "6 % 3"
   ]
  },
  {
   "cell_type": "code",
   "execution_count": null,
   "metadata": {
    "id": "IigujGdmVXZN"
   },
   "outputs": [],
   "source": [
    "10 % 5"
   ]
  },
  {
   "cell_type": "markdown",
   "metadata": {
    "id": "YGJiedwJnHP1"
   },
   "source": [
    "# References and Sources\n",
    "- [The Data Incubator](https://www.thedataincubator.com/)"
   ]
  },
  {
   "cell_type": "markdown",
   "metadata": {
    "id": "sV12o97JnHP1"
   },
   "source": [
    "*Copyright &copy; 2019 The New Generation Technologies.  All rights reserved.*"
   ]
  }
 ],
 "metadata": {
  "colab": {
   "collapsed_sections": [
    "3_Az24yRnHPe",
    "rQxfVtwtnHPg",
    "8p68XGjNnHPo",
    "DaiElUu3nHPw"
   ],
   "name": "3. PY_ProgramFlow v2.ipynb",
   "provenance": []
  },
  "kernelspec": {
   "display_name": "Python 3",
   "language": "python",
   "name": "python3"
  },
  "language_info": {
   "codemirror_mode": {
    "name": "ipython",
    "version": 3
   },
   "file_extension": ".py",
   "mimetype": "text/x-python",
   "name": "python",
   "nbconvert_exporter": "python",
   "pygments_lexer": "ipython3",
   "version": "3.8.8"
  },
  "nbclean": true
 },
 "nbformat": 4,
 "nbformat_minor": 1
}
